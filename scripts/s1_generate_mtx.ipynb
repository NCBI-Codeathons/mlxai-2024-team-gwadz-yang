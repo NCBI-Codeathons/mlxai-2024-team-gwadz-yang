{
 "cells": [
  {
   "cell_type": "code",
   "execution_count": 38,
   "id": "7d94541c-28e7-4dba-8790-174ac5d821bb",
   "metadata": {},
   "outputs": [],
   "source": [
    "import pandas as pd\n",
    "import math \n",
    "from collections import defaultdict \n"
   ]
  },
  {
   "cell_type": "code",
   "execution_count": 6,
   "id": "0d9aedc5-0d33-41b9-8596-53cd3c256b09",
   "metadata": {},
   "outputs": [],
   "source": [
    "df = pd.read_csv(\"../data/SPARCLE_IDS_curated.csv\", on_bad_lines  = \"warn\")"
   ]
  },
  {
   "cell_type": "code",
   "execution_count": 7,
   "id": "08f4951a-cdbc-4c25-8b5a-d6c2f7533929",
   "metadata": {},
   "outputs": [
    {
     "data": {
      "text/plain": [
       "Index(['ArchId', 'CurVer', 'CurLabel', 'CurName', 'Shortnames', 'SpecificArch',\n",
       "       'superfamilyarch', 'Taxid', 'IsSpec', 'Status', 'LabelState',\n",
       "       'archLen_max', 'archLen_med', 'ArchId_string', 'SuperFamID_string',\n",
       "       'TitleStrings'],\n",
       "      dtype='object')"
      ]
     },
     "execution_count": 7,
     "metadata": {},
     "output_type": "execute_result"
    }
   ],
   "source": [
    "df.columns"
   ]
  },
  {
   "cell_type": "code",
   "execution_count": 78,
   "id": "cf317395-8259-44fb-9cea-5af5ed8bd937",
   "metadata": {},
   "outputs": [],
   "source": [
    "\"\"\"\n",
    "The code processes rows in a DataFrame, generating two dictionaries (dict_feat and dict_idx_feat). \n",
    "dict_feat contains feature keys derived from specific columns, while dict_idx_feat is a nested dictionary \n",
    "associating row indices with feature keys and binary values indicating their presence in each row.\n",
    "\"\"\"\n",
    "dict_feat = defaultdict() \n",
    "dict_idx_feat =  defaultdict(dict) \n",
    "\n",
    "for index, row in df.iterrows():\n",
    "    #if type(row[\"Shortnames\"]) == str:\n",
    "    #    dict_feat[\"Shortnames_\" + row[\"Shortnames\"]] = \"\"\n",
    "    #    dict_idx_feat[index][\"Shortnames_\" + row[\"Shortnames\"]] = 1\n",
    "    if type(row[\"SpecificArch\"]) == str:\n",
    "        id_list = row[\"SpecificArch\"].split(\" \")\n",
    "        for id in id_list: \n",
    "            dict_feat[\"SpecificArch_\" + id] = \"\"\n",
    "            dict_idx_feat[index][\"SpecificArch_\" + id] = 1\n",
    "    if type(row[\"superfamilyarch\"]) == str:\n",
    "        dict_feat[\"superfamilyarch_\" + row[\"superfamilyarch\"]] = \"\"\n",
    "        dict_idx_feat[index][\"superfamilyarch_\" + row[\"superfamilyarch\"]] = 1"
   ]
  },
  {
   "cell_type": "code",
   "execution_count": null,
   "id": "3aa73065-e357-46e0-a6a7-0e4bbc245573",
   "metadata": {},
   "outputs": [],
   "source": []
  },
  {
   "cell_type": "code",
   "execution_count": 79,
   "id": "80e5567d-bf8c-41b2-a523-a2a281d32299",
   "metadata": {},
   "outputs": [],
   "source": [
    "output_mtx = \"../data/SPARCLE_IDS_curated.mtx4ml.tsv\""
   ]
  },
  {
   "cell_type": "code",
   "execution_count": 80,
   "id": "99ec987e-8c42-4cfa-8630-bacdb6212d6d",
   "metadata": {},
   "outputs": [],
   "source": [
    "\"\"\"\n",
    "The code writes a tab-separated matrix file (output_mtx) where the first row consists \n",
    "of the \"CurName\" column and feature names obtained from a dictionary (dict_feat).\n",
    "Subsequently, for each row in the DataFrame (df), it writes a line containing the \n",
    "\"CurName\" value followed by binary-encoded feature values, with missing features set to 0.\n",
    "\"\"\"\n",
    "with open(output_mtx, \"w\") as mtx:\n",
    "    header = [\"CurName\"] + sorted(dict_feat.keys())\n",
    "    mtx.write(\"\\t\".join(header) + \"\\n\")\n",
    "\n",
    "    for idx, cur_name in enumerate(df[\"CurName\"]):\n",
    "        ele = [cur_name] + [str(dict_idx_feat[idx].get(item, 0)) for item in sorted(dict_feat.keys())]\n",
    "        mtx.write(\"\\t\".join(ele) + \"\\n\")"
   ]
  },
  {
   "cell_type": "code",
   "execution_count": 81,
   "id": "1e3f55bf-b1ca-4954-b2a9-3adb531fe7dc",
   "metadata": {},
   "outputs": [
    {
     "data": {
      "text/plain": [
       "48296"
      ]
     },
     "execution_count": 81,
     "metadata": {},
     "output_type": "execute_result"
    }
   ],
   "source": [
    "# Number of features\n",
    "len(dict_feat.keys())"
   ]
  },
  {
   "cell_type": "code",
   "execution_count": 82,
   "id": "9f225855-8fde-43ba-86e6-4072c14f56ec",
   "metadata": {},
   "outputs": [
    {
     "name": "stdout",
     "output_type": "stream",
     "text": [
      "anyio==4.3.0\n",
      "appnope==0.1.4\n",
      "argon2-cffi==23.1.0\n",
      "argon2-cffi-bindings==21.2.0\n",
      "arrow==1.3.0\n",
      "asttokens==2.4.1\n",
      "async-lru==2.0.4\n",
      "attrs==23.2.0\n",
      "Babel==2.14.0\n",
      "beautifulsoup4==4.12.3\n",
      "bleach==6.1.0\n",
      "certifi==2024.2.2\n",
      "cffi==1.16.0\n",
      "charset-normalizer==3.3.2\n",
      "comm==0.2.1\n",
      "debugpy==1.8.1\n",
      "decorator==5.1.1\n",
      "defusedxml==0.7.1\n",
      "exceptiongroup==1.2.0\n",
      "executing==2.0.1\n",
      "fastjsonschema==2.19.1\n",
      "fqdn==1.5.1\n",
      "h11==0.14.0\n",
      "httpcore==1.0.4\n",
      "httpx==0.27.0\n",
      "idna==3.6\n",
      "importlib-metadata==7.0.1\n",
      "ipykernel==6.29.3\n",
      "ipython==8.18.1\n",
      "isoduration==20.11.0\n",
      "jedi==0.19.1\n",
      "Jinja2==3.1.3\n",
      "json5==0.9.17\n",
      "jsonpointer==2.4\n",
      "jsonschema==4.21.1\n",
      "jsonschema-specifications==2023.12.1\n",
      "jupyter-events==0.9.0\n",
      "jupyter-lsp==2.2.3\n",
      "jupyter_client==8.6.0\n",
      "jupyter_core==5.7.1\n",
      "jupyter_server==2.12.5\n",
      "jupyter_server_terminals==0.5.2\n",
      "jupyterlab==4.1.2\n",
      "jupyterlab_pygments==0.3.0\n",
      "jupyterlab_server==2.25.3\n",
      "MarkupSafe==2.1.5\n",
      "matplotlib-inline==0.1.6\n",
      "mistune==3.0.2\n",
      "nbclient==0.9.0\n",
      "nbconvert==7.16.1\n",
      "nbformat==5.9.2\n",
      "nest-asyncio==1.6.0\n",
      "notebook==7.1.1\n",
      "notebook_shim==0.2.4\n",
      "numpy==1.26.4\n",
      "overrides==7.7.0\n",
      "packaging==23.2\n",
      "pandas==2.2.1\n",
      "pandocfilters==1.5.1\n",
      "parso==0.8.3\n",
      "pexpect==4.9.0\n",
      "platformdirs==4.2.0\n",
      "prometheus_client==0.20.0\n",
      "prompt-toolkit==3.0.43\n",
      "psutil==5.9.8\n",
      "ptyprocess==0.7.0\n",
      "pure-eval==0.2.2\n",
      "pycparser==2.21\n",
      "Pygments==2.17.2\n",
      "python-dateutil==2.8.2\n",
      "python-json-logger==2.0.7\n",
      "pytz==2024.1\n",
      "PyYAML==6.0.1\n",
      "pyzmq==25.1.2\n",
      "referencing==0.33.0\n",
      "requests==2.31.0\n",
      "rfc3339-validator==0.1.4\n",
      "rfc3986-validator==0.1.1\n",
      "rpds-py==0.18.0\n",
      "Send2Trash==1.8.2\n",
      "six==1.16.0\n",
      "sniffio==1.3.1\n",
      "soupsieve==2.5\n",
      "stack-data==0.6.3\n",
      "terminado==0.18.0\n",
      "tinycss2==1.2.1\n",
      "tomli==2.0.1\n",
      "tornado==6.4\n",
      "traitlets==5.14.1\n",
      "types-python-dateutil==2.8.19.20240106\n",
      "typing_extensions==4.10.0\n",
      "tzdata==2024.1\n",
      "uri-template==1.3.0\n",
      "urllib3==2.2.1\n",
      "wcwidth==0.2.13\n",
      "webcolors==1.13\n",
      "webencodings==0.5.1\n",
      "websocket-client==1.7.0\n",
      "zipp==3.17.0\n"
     ]
    }
   ],
   "source": [
    "%%bash \n",
    "pip freeze "
   ]
  },
  {
   "cell_type": "code",
   "execution_count": null,
   "id": "707214ce-df76-4901-96af-64684429576c",
   "metadata": {},
   "outputs": [],
   "source": []
  }
 ],
 "metadata": {
  "kernelspec": {
   "display_name": "Python 3 (ipykernel)",
   "language": "python",
   "name": "python3"
  },
  "language_info": {
   "codemirror_mode": {
    "name": "ipython",
    "version": 3
   },
   "file_extension": ".py",
   "mimetype": "text/x-python",
   "name": "python",
   "nbconvert_exporter": "python",
   "pygments_lexer": "ipython3",
   "version": "3.12.2"
  }
 },
 "nbformat": 4,
 "nbformat_minor": 5
}
