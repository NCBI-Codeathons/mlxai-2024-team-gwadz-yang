{
 "cells": [
  {
   "cell_type": "markdown",
   "id": "521b22fb-fb09-40fa-abf7-20fd1e196731",
   "metadata": {},
   "source": [
    "# Running Decision Tree Model"
   ]
  },
  {
   "cell_type": "code",
   "execution_count": null,
   "id": "be3ad91d-c884-44ad-b1c5-393f3c631903",
   "metadata": {},
   "outputs": [],
   "source": [
    "!pip install fuzzywuzzy\n",
    "!pip install python-Levenshtein"
   ]
  },
  {
   "cell_type": "code",
   "execution_count": 3,
   "id": "b4263d81-4acb-450e-9459-cd191ded845d",
   "metadata": {},
   "outputs": [],
   "source": [
    "import os\n",
    "import pandas as pd\n",
    "import math \n",
    "from collections import defaultdict \n",
    "import matplotlib.pyplot as plt\n",
    "\n",
    "DATA_DIR=\"../data\""
   ]
  },
  {
   "cell_type": "code",
   "execution_count": 4,
   "id": "48f1b297-62d5-49c9-a8a7-a8e7faa2b990",
   "metadata": {},
   "outputs": [
    {
     "name": "stdout",
     "output_type": "stream",
     "text": [
      "super_families_indices.pickle\n",
      "archid_encoded_features_dict.pickle\n",
      "Title_Strings.csv\n",
      ".DS_Store\n",
      "CD_models_all\n",
      "CD_models_curated_sorted\n",
      "archid_encoded_curname_dict.pickle\n",
      "SPARCLE_IDS_curated.mtx4ml.tsv.gz\n",
      "input_output_list.pickle\n",
      "curated_names_unique\n",
      "CD_models_curated\n",
      "SPARCLE_IDS_UNcurated_TITLES.csv.gz\n",
      "SPARCLE_IDS_curated_simplified_modTitleStrings.csv\n",
      "SPARCLE_IDS_all_current.csv.gz\n",
      "super_families_curated\n",
      "SPARCLE_IDS_curated.csv\n",
      "CD_models_indices.pickle\n",
      "SPARCLE_IDS_curated_simplified.mtx4ml.tsv.gz\n",
      "SPARCLE_IDS_UNcurated.csv\n",
      "simplified_Curname_set.csv\n",
      "Title_Strings_sorted_uniq\n",
      "cd_id_nme_shortnme.csv\n",
      "SPARCLE_IDS_curated_simplified.csv\n",
      "super_families_curated_sorted\n"
     ]
    }
   ],
   "source": [
    "# Get the list of files in the directory\n",
    "files = os.listdir(DATA_DIR)\n",
    "\n",
    "# Print the list of files\n",
    "for file in files:\n",
    "    print(file)"
   ]
  },
  {
   "cell_type": "markdown",
   "id": "cd4a2b5a-b92c-4523-b64b-598487756252",
   "metadata": {},
   "source": [
    "## Import preprocessed data"
   ]
  },
  {
   "cell_type": "markdown",
   "id": "40742d1c-b0ba-4a20-b323-e2b1e92a55d4",
   "metadata": {},
   "source": [
    "### Import input - SPARCLE_IDS_curated_simplified.mtx4ml.tsv.gz"
   ]
  },
  {
   "cell_type": "code",
   "execution_count": 25,
   "id": "d2eaf595-2dc4-4de6-9eea-272b65b569aa",
   "metadata": {
    "scrolled": true
   },
   "outputs": [
    {
     "data": {
      "text/html": [
       "<div>\n",
       "<style scoped>\n",
       "    .dataframe tbody tr th:only-of-type {\n",
       "        vertical-align: middle;\n",
       "    }\n",
       "\n",
       "    .dataframe tbody tr th {\n",
       "        vertical-align: top;\n",
       "    }\n",
       "\n",
       "    .dataframe thead th {\n",
       "        text-align: right;\n",
       "    }\n",
       "</style>\n",
       "<table border=\"1\" class=\"dataframe\">\n",
       "  <thead>\n",
       "    <tr style=\"text-align: right;\">\n",
       "      <th></th>\n",
       "      <th>CurName_simplified</th>\n",
       "      <th>SpecificArch_CHL00001</th>\n",
       "      <th>SpecificArch_CHL00002</th>\n",
       "      <th>SpecificArch_CHL00004</th>\n",
       "      <th>SpecificArch_CHL00005</th>\n",
       "      <th>SpecificArch_CHL00008</th>\n",
       "      <th>SpecificArch_CHL00009</th>\n",
       "      <th>SpecificArch_CHL00011</th>\n",
       "      <th>SpecificArch_CHL00012</th>\n",
       "      <th>SpecificArch_CHL00013</th>\n",
       "      <th>...</th>\n",
       "      <th>superfamilyarch_zinc_ribbon_2 PKc_like</th>\n",
       "      <th>superfamilyarch_zinc_ribbon_2 PTC1</th>\n",
       "      <th>superfamilyarch_zinc_ribbon_2 UPF0182</th>\n",
       "      <th>superfamilyarch_zinc_ribbon_4</th>\n",
       "      <th>superfamilyarch_zinc_ribbon_4 PqiA</th>\n",
       "      <th>superfamilyarch_zinc_ribbon_5 PqiA</th>\n",
       "      <th>superfamilyarch_zinc_ribbon_9 RING_Ubox</th>\n",
       "      <th>superfamilyarch_zntA</th>\n",
       "      <th>superfamilyarch_znuC</th>\n",
       "      <th>superfamilyarch_zwf</th>\n",
       "    </tr>\n",
       "  </thead>\n",
       "  <tbody>\n",
       "    <tr>\n",
       "      <th>0</th>\n",
       "      <td>(2,3-dihydroxybenzoyl)adenylate synthase</td>\n",
       "      <td>0</td>\n",
       "      <td>0</td>\n",
       "      <td>0</td>\n",
       "      <td>0</td>\n",
       "      <td>0</td>\n",
       "      <td>0</td>\n",
       "      <td>0</td>\n",
       "      <td>0</td>\n",
       "      <td>0</td>\n",
       "      <td>...</td>\n",
       "      <td>0</td>\n",
       "      <td>0</td>\n",
       "      <td>0</td>\n",
       "      <td>0</td>\n",
       "      <td>0</td>\n",
       "      <td>0</td>\n",
       "      <td>0</td>\n",
       "      <td>0</td>\n",
       "      <td>0</td>\n",
       "      <td>0</td>\n",
       "    </tr>\n",
       "    <tr>\n",
       "      <th>1</th>\n",
       "      <td>(2,3-dihydroxybenzoyl)adenylate synthase</td>\n",
       "      <td>0</td>\n",
       "      <td>0</td>\n",
       "      <td>0</td>\n",
       "      <td>0</td>\n",
       "      <td>0</td>\n",
       "      <td>0</td>\n",
       "      <td>0</td>\n",
       "      <td>0</td>\n",
       "      <td>0</td>\n",
       "      <td>...</td>\n",
       "      <td>0</td>\n",
       "      <td>0</td>\n",
       "      <td>0</td>\n",
       "      <td>0</td>\n",
       "      <td>0</td>\n",
       "      <td>0</td>\n",
       "      <td>0</td>\n",
       "      <td>0</td>\n",
       "      <td>0</td>\n",
       "      <td>0</td>\n",
       "    </tr>\n",
       "    <tr>\n",
       "      <th>2</th>\n",
       "      <td>(2,3-dihydroxybenzoyl)adenylate synthase</td>\n",
       "      <td>0</td>\n",
       "      <td>0</td>\n",
       "      <td>0</td>\n",
       "      <td>0</td>\n",
       "      <td>0</td>\n",
       "      <td>0</td>\n",
       "      <td>0</td>\n",
       "      <td>0</td>\n",
       "      <td>0</td>\n",
       "      <td>...</td>\n",
       "      <td>0</td>\n",
       "      <td>0</td>\n",
       "      <td>0</td>\n",
       "      <td>0</td>\n",
       "      <td>0</td>\n",
       "      <td>0</td>\n",
       "      <td>0</td>\n",
       "      <td>0</td>\n",
       "      <td>0</td>\n",
       "      <td>0</td>\n",
       "    </tr>\n",
       "    <tr>\n",
       "      <th>3</th>\n",
       "      <td>(2E,6E)-farnesyl diphosphate synthase</td>\n",
       "      <td>0</td>\n",
       "      <td>0</td>\n",
       "      <td>0</td>\n",
       "      <td>0</td>\n",
       "      <td>0</td>\n",
       "      <td>0</td>\n",
       "      <td>0</td>\n",
       "      <td>0</td>\n",
       "      <td>0</td>\n",
       "      <td>...</td>\n",
       "      <td>0</td>\n",
       "      <td>0</td>\n",
       "      <td>0</td>\n",
       "      <td>0</td>\n",
       "      <td>0</td>\n",
       "      <td>0</td>\n",
       "      <td>0</td>\n",
       "      <td>0</td>\n",
       "      <td>0</td>\n",
       "      <td>0</td>\n",
       "    </tr>\n",
       "    <tr>\n",
       "      <th>4</th>\n",
       "      <td>(2Fe-2S) ferredoxin domain-containing protein</td>\n",
       "      <td>0</td>\n",
       "      <td>0</td>\n",
       "      <td>0</td>\n",
       "      <td>0</td>\n",
       "      <td>0</td>\n",
       "      <td>0</td>\n",
       "      <td>0</td>\n",
       "      <td>0</td>\n",
       "      <td>0</td>\n",
       "      <td>...</td>\n",
       "      <td>0</td>\n",
       "      <td>0</td>\n",
       "      <td>0</td>\n",
       "      <td>0</td>\n",
       "      <td>0</td>\n",
       "      <td>0</td>\n",
       "      <td>0</td>\n",
       "      <td>0</td>\n",
       "      <td>0</td>\n",
       "      <td>0</td>\n",
       "    </tr>\n",
       "  </tbody>\n",
       "</table>\n",
       "<p>5 rows × 48297 columns</p>\n",
       "</div>"
      ],
      "text/plain": [
       "                              CurName_simplified  SpecificArch_CHL00001  \\\n",
       "0       (2,3-dihydroxybenzoyl)adenylate synthase                      0   \n",
       "1       (2,3-dihydroxybenzoyl)adenylate synthase                      0   \n",
       "2       (2,3-dihydroxybenzoyl)adenylate synthase                      0   \n",
       "3          (2E,6E)-farnesyl diphosphate synthase                      0   \n",
       "4  (2Fe-2S) ferredoxin domain-containing protein                      0   \n",
       "\n",
       "   SpecificArch_CHL00002  SpecificArch_CHL00004  SpecificArch_CHL00005  \\\n",
       "0                      0                      0                      0   \n",
       "1                      0                      0                      0   \n",
       "2                      0                      0                      0   \n",
       "3                      0                      0                      0   \n",
       "4                      0                      0                      0   \n",
       "\n",
       "   SpecificArch_CHL00008  SpecificArch_CHL00009  SpecificArch_CHL00011  \\\n",
       "0                      0                      0                      0   \n",
       "1                      0                      0                      0   \n",
       "2                      0                      0                      0   \n",
       "3                      0                      0                      0   \n",
       "4                      0                      0                      0   \n",
       "\n",
       "   SpecificArch_CHL00012  SpecificArch_CHL00013  ...  \\\n",
       "0                      0                      0  ...   \n",
       "1                      0                      0  ...   \n",
       "2                      0                      0  ...   \n",
       "3                      0                      0  ...   \n",
       "4                      0                      0  ...   \n",
       "\n",
       "   superfamilyarch_zinc_ribbon_2 PKc_like  superfamilyarch_zinc_ribbon_2 PTC1  \\\n",
       "0                                       0                                   0   \n",
       "1                                       0                                   0   \n",
       "2                                       0                                   0   \n",
       "3                                       0                                   0   \n",
       "4                                       0                                   0   \n",
       "\n",
       "   superfamilyarch_zinc_ribbon_2 UPF0182  superfamilyarch_zinc_ribbon_4  \\\n",
       "0                                      0                              0   \n",
       "1                                      0                              0   \n",
       "2                                      0                              0   \n",
       "3                                      0                              0   \n",
       "4                                      0                              0   \n",
       "\n",
       "   superfamilyarch_zinc_ribbon_4 PqiA  superfamilyarch_zinc_ribbon_5 PqiA  \\\n",
       "0                                   0                                   0   \n",
       "1                                   0                                   0   \n",
       "2                                   0                                   0   \n",
       "3                                   0                                   0   \n",
       "4                                   0                                   0   \n",
       "\n",
       "   superfamilyarch_zinc_ribbon_9 RING_Ubox  superfamilyarch_zntA  \\\n",
       "0                                        0                     0   \n",
       "1                                        0                     0   \n",
       "2                                        0                     0   \n",
       "3                                        0                     0   \n",
       "4                                        0                     0   \n",
       "\n",
       "   superfamilyarch_znuC  superfamilyarch_zwf  \n",
       "0                     0                    0  \n",
       "1                     0                    0  \n",
       "2                     0                    0  \n",
       "3                     0                    0  \n",
       "4                     0                    0  \n",
       "\n",
       "[5 rows x 48297 columns]"
      ]
     },
     "execution_count": 25,
     "metadata": {},
     "output_type": "execute_result"
    }
   ],
   "source": [
    "# Access &read the file \n",
    "file_path = os.path.join(DATA_DIR, \"SPARCLE_IDS_curated_simplified.mtx4ml.tsv.gz\")\n",
    "df_one_hot = pd.read_csv(file_path, sep='\\t', compression='gzip')\n",
    "\n",
    "#test succ. loading\n",
    "df_one_hot.head()"
   ]
  },
  {
   "cell_type": "code",
   "execution_count": 26,
   "id": "bb223339-63c3-4706-8db4-aa3d0b166a7b",
   "metadata": {},
   "outputs": [
    {
     "data": {
      "text/plain": [
       "(38167, 48297)"
      ]
     },
     "execution_count": 26,
     "metadata": {},
     "output_type": "execute_result"
    }
   ],
   "source": [
    "df_one_hot.shape"
   ]
  },
  {
   "cell_type": "code",
   "execution_count": 27,
   "id": "71c33049-1032-4b32-9ba2-d9b6021d2810",
   "metadata": {},
   "outputs": [],
   "source": [
    "columns_to_drop = [col for col in df_one_hot.columns if col.startswith(\"SpecificArch\")]\n",
    "df_one_hot_superFamOnly = df_one_hot.drop(columns=columns_to_drop)"
   ]
  },
  {
   "cell_type": "code",
   "execution_count": 28,
   "id": "9a9d3abc-cfe0-4396-8e71-66b948bd2eee",
   "metadata": {},
   "outputs": [
    {
     "data": {
      "text/plain": [
       "(38167, 20243)"
      ]
     },
     "execution_count": 28,
     "metadata": {},
     "output_type": "execute_result"
    }
   ],
   "source": [
    "df_one_hot_superFamOnly.shape"
   ]
  },
  {
   "cell_type": "markdown",
   "id": "a05cf2a3-ed94-478a-b4bc-a76579ec3aa5",
   "metadata": {},
   "source": [
    "### Import input - indices.pickle"
   ]
  },
  {
   "cell_type": "code",
   "execution_count": 5,
   "id": "826ca5d5-2530-40aa-8b37-5343d0c44fd6",
   "metadata": {},
   "outputs": [],
   "source": [
    "import pickle"
   ]
  },
  {
   "cell_type": "code",
   "execution_count": 16,
   "id": "e9ad5ac5-4e16-43f0-9d73-5b9f38e06bcb",
   "metadata": {},
   "outputs": [],
   "source": [
    "with open(os.path.join(DATA_DIR, 'input_output_list.pickle'), 'rb') as f:\n",
    "    a = pickle.load(f)"
   ]
  },
  {
   "cell_type": "code",
   "execution_count": 24,
   "id": "4a5768d7-8562-41cf-8e68-57a5e1c767ec",
   "metadata": {},
   "outputs": [
    {
     "data": {
      "text/plain": [
       "(   0     1     2    3    4     5    6    7    8    9    ...  440  441  442  \\\n",
       " 0    0     0     0    0    0     0    0    0    0    0  ... -1.0 -1.0 -1.0   \n",
       " 1  135  5118  4211  130   56  2276   20   -1   -1   -1  ...  NaN  NaN  NaN   \n",
       " \n",
       "    443  444  445  446  447  448  449  \n",
       " 0 -1.0 -1.0 -1.0 -1.0 -1.0 -1.0 -1.0  \n",
       " 1  NaN  NaN  NaN  NaN  NaN  NaN  NaN  \n",
       " \n",
       " [2 rows x 450 columns],\n",
       "    0     1     2    3    4     5    6    7    8    9    ...  440  441  442  \\\n",
       " 0    0     0     0    0    0     0    0    0    0    0  ... -1.0 -1.0 -1.0   \n",
       " 1  135  5118  4211  130   56  2276   20   -1   -1   -1  ...  NaN  NaN  NaN   \n",
       " \n",
       "    443  444  445  446  447  448  449  \n",
       " 0 -1.0 -1.0 -1.0 -1.0 -1.0 -1.0 -1.0  \n",
       " 1  NaN  NaN  NaN  NaN  NaN  NaN  NaN  \n",
       " \n",
       " [2 rows x 450 columns])"
      ]
     },
     "execution_count": 24,
     "metadata": {},
     "output_type": "execute_result"
    }
   ],
   "source": [
    "pd.DataFrame(a[0]), pd.DataFrame(a[1])"
   ]
  },
  {
   "cell_type": "code",
   "execution_count": null,
   "id": "a8145056-3edb-4916-ac73-be6a5f0b0893",
   "metadata": {},
   "outputs": [],
   "source": []
  },
  {
   "cell_type": "markdown",
   "id": "2bbddb61-9be4-4184-9beb-d2f2880033b4",
   "metadata": {
    "jp-MarkdownHeadingCollapsed": true
   },
   "source": [
    "## Data Filtering "
   ]
  },
  {
   "cell_type": "markdown",
   "id": "7742ea94-45f6-4eae-a29b-6ed5e3dbed38",
   "metadata": {},
   "source": [
    "Remove all columns that have less than <i>threshold</i> occurances in total. Then remove those data points that do not have any "
   ]
  },
  {
   "cell_type": "code",
   "execution_count": 65,
   "id": "402d4e28-9f72-4a77-808b-0b06f01a6b56",
   "metadata": {},
   "outputs": [],
   "source": [
    "df_one_hot_filtered = df_one_hot_superFamOnly\n",
    "threshold = 1\n",
    "exclude_column = ['CurName_simplified']\n",
    "remaining_columns = df_one_hot_filtered.columns.difference(exclude_column)"
   ]
  },
  {
   "cell_type": "code",
   "execution_count": 66,
   "id": "5fdf1d6f-044e-4d25-9496-fcea3c007e2d",
   "metadata": {},
   "outputs": [],
   "source": [
    "counts = (df_one_hot_filtered[remaining_columns] == 1).sum()"
   ]
  },
  {
   "cell_type": "markdown",
   "id": "af6dd635-505c-4e08-a684-e5d8e70abce8",
   "metadata": {},
   "source": [
    "Frequency table"
   ]
  },
  {
   "cell_type": "code",
   "execution_count": 67,
   "id": "d6f28a75-c508-47c8-9726-f6ca858a94e3",
   "metadata": {},
   "outputs": [
    {
     "data": {
      "text/plain": [
       "1      14296\n",
       "2       3100\n",
       "3       1041\n",
       "4        542\n",
       "5        315\n",
       "       ...  \n",
       "197        1\n",
       "226        1\n",
       "297        1\n",
       "369        1\n",
       "382        1\n",
       "Name: count, Length: 83, dtype: int64"
      ]
     },
     "execution_count": 67,
     "metadata": {},
     "output_type": "execute_result"
    }
   ],
   "source": [
    "frequency_table = counts.value_counts().sort_index()\n",
    "frequency_table"
   ]
  },
  {
   "cell_type": "code",
   "execution_count": 68,
   "id": "1aa4317c-4fcf-4909-8a59-1ff46b9c0d7e",
   "metadata": {
    "scrolled": true
   },
   "outputs": [
    {
     "data": {
      "image/png": "[encoded data removed]",
      "text/plain": [
       "<Figure size 640x480 with 1 Axes>"
      ]
     },
     "metadata": {},
     "output_type": "display_data"
    }
   ],
   "source": [
    "frequency_table.plot(kind='bar')\n",
    "\n",
    "# Adding titles and labels\n",
    "plt.title('Frequency of Occurencies of Features')\n",
    "plt.xlabel('Count of Number 1')\n",
    "plt.ylabel('Frequency')\n",
    "\n",
    "# Displaying the plot\n",
    "plt.show()"
   ]
  },
  {
   "cell_type": "code",
   "execution_count": 9,
   "id": "8e41dc88-09c2-4d32-8cce-ee483741d684",
   "metadata": {},
   "outputs": [],
   "source": [
    "# Filter out columns where the count is less than the threshold\n",
    "columns_to_drop = counts[counts < threshold].index"
   ]
  },
  {
   "cell_type": "code",
   "execution_count": 10,
   "id": "206a7141-345f-49ff-a892-b57159621a10",
   "metadata": {},
   "outputs": [],
   "source": [
    "# Drop the columns from the DataFrame\n",
    "df_one_hot_filtered.drop(columns=columns_to_drop, inplace=True)"
   ]
  },
  {
   "cell_type": "code",
   "execution_count": 11,
   "id": "3d7c77b0-7103-480e-9b04-f5c355d44f11",
   "metadata": {},
   "outputs": [
    {
     "data": {
      "text/plain": [
       "(38167, 2322)"
      ]
     },
     "execution_count": 11,
     "metadata": {},
     "output_type": "execute_result"
    }
   ],
   "source": [
    "df_one_hot_filtered.shape"
   ]
  },
  {
   "cell_type": "code",
   "execution_count": 12,
   "id": "297f723f-d350-46f6-b444-ca4b83248f01",
   "metadata": {},
   "outputs": [],
   "source": [
    "# Keep rows where any column equals 1\n",
    "df_filtered = df_one_hot_filtered[df_one_hot_filtered.apply(lambda row: (row == 1).any(), axis=1)]"
   ]
  },
  {
   "cell_type": "code",
   "execution_count": 13,
   "id": "65f30512-36ce-4bbf-93e5-80f1e91754a1",
   "metadata": {},
   "outputs": [
    {
     "data": {
      "text/plain": [
       "(22486, 2322)"
      ]
     },
     "execution_count": 13,
     "metadata": {},
     "output_type": "execute_result"
    }
   ],
   "source": [
    "df_filtered.shape"
   ]
  },
  {
   "cell_type": "markdown",
   "id": "9c08bf69-1240-4774-a2ad-652ac64cb136",
   "metadata": {},
   "source": [
    "## Fuzzy Matching to evaluate results"
   ]
  },
  {
   "cell_type": "markdown",
   "id": "dde13013-5920-45d5-aae6-d328337e75cb",
   "metadata": {},
   "source": [
    "Imported and modified from fuzzy_match_CurName.ipynb (CM)"
   ]
  },
  {
   "cell_type": "code",
   "execution_count": 43,
   "id": "0f4f157d-120e-45ab-9d25-b880f7bfdfa8",
   "metadata": {},
   "outputs": [],
   "source": [
    "import sys, os, json\n",
    "import fuzzywuzzy\n",
    "from fuzzywuzzy import fuzz\n",
    "from fuzzywuzzy import process\n",
    "import pandas as pd\n",
    "from pathlib import Path\n",
    "import Levenshtein"
   ]
  },
  {
   "cell_type": "code",
   "execution_count": 42,
   "id": "51a2217f-56f0-41ae-b4f1-417e925307ac",
   "metadata": {},
   "outputs": [],
   "source": [
    "# Define a threshold for considering a prediction as correct\n",
    "similarity_threshold = 80\n",
    "\n",
    "def calculate_similarity_scores(predictions, actuals, threshold=similarity_threshold):\n",
    "    correct_predictions = 0\n",
    "    total_predictions = len(predictions)\n",
    "    \n",
    "    # Scores for different types of comparisons\n",
    "    similarity_scores = []\n",
    "    partial_scores = []\n",
    "    token_sort_scores = []\n",
    "    token_set_scores = []\n",
    "    \n",
    "    for predicted, actual in zip(predictions, actuals):\n",
    "        # Convert to lower case for case-insensitive comparison\n",
    "        predicted_lower = predicted.lower()\n",
    "        actual_lower = actual.lower()\n",
    "        \n",
    "        # Calculate similarity score and other types of scores\n",
    "        similarity = fuzz.ratio(predicted_lower, actual_lower)\n",
    "        partial = fuzz.partial_ratio(predicted_lower, actual_lower)\n",
    "        token_sort = fuzz.token_sort_ratio(predicted_lower, actual_lower)\n",
    "        token_set = fuzz.token_set_ratio(predicted_lower, actual_lower)\n",
    "        \n",
    "        # Record the scores\n",
    "        similarity_scores.append(similarity)\n",
    "        partial_scores.append(partial)\n",
    "        token_sort_scores.append(token_sort)\n",
    "        token_set_scores.append(token_set)\n",
    "        \n",
    "        # Check if the similarity score is above the threshold\n",
    "        if similarity >= threshold:\n",
    "            correct_predictions += 1\n",
    "    \n",
    "    # Calculate adjusted accuracy\n",
    "    adjusted_accuracy = correct_predictions / total_predictions\n",
    "    \n",
    "    return adjusted_accuracy, similarity_scores, partial_scores, token_sort_scores, token_set_scores"
   ]
  },
  {
   "cell_type": "code",
   "execution_count": null,
   "id": "9d5fb0f5-b58f-46bf-91ea-bf0fe2bfd69e",
   "metadata": {},
   "outputs": [],
   "source": []
  },
  {
   "cell_type": "code",
   "execution_count": null,
   "id": "ae7e4f66-2cd2-4965-89d7-3f4e33aa78d1",
   "metadata": {},
   "outputs": [],
   "source": []
  },
  {
   "cell_type": "code",
   "execution_count": null,
   "id": "fd20ccb8-7b1b-4f92-9c65-f72676c2bd57",
   "metadata": {},
   "outputs": [],
   "source": []
  },
  {
   "cell_type": "code",
   "execution_count": null,
   "id": "1e6cf238-dad0-4fcc-8424-831af44cc710",
   "metadata": {},
   "outputs": [],
   "source": []
  },
  {
   "cell_type": "code",
   "execution_count": null,
   "id": "2aa38fdf-2ad7-4fe3-8f6b-a780a3e0767d",
   "metadata": {},
   "outputs": [],
   "source": []
  },
  {
   "cell_type": "code",
   "execution_count": null,
   "id": "b2f757d7-fbf2-4d20-bd90-315dd3e67f0b",
   "metadata": {},
   "outputs": [],
   "source": []
  },
  {
   "cell_type": "markdown",
   "id": "277f1b63-884a-428f-bf8c-c22a6b119247",
   "metadata": {},
   "source": [
    "## Split data set into training and testing data"
   ]
  },
  {
   "cell_type": "code",
   "execution_count": 29,
   "id": "18797044-2a8b-419a-b479-fda4a9b07b1a",
   "metadata": {},
   "outputs": [],
   "source": [
    "from sklearn.model_selection import train_test_split"
   ]
  },
  {
   "cell_type": "code",
   "execution_count": 30,
   "id": "fef102fd-acd9-45c8-842d-1696def509ba",
   "metadata": {},
   "outputs": [],
   "source": [
    "#just for test and short running of problem: take first 1000 lines from df\n",
    "df_final = df_one_hot_superFamOnly#.head(5000)"
   ]
  },
  {
   "cell_type": "code",
   "execution_count": 31,
   "id": "e0e0b91f-86d8-4673-b9f1-a34e54630b34",
   "metadata": {},
   "outputs": [],
   "source": [
    "X = df_final.drop(['CurName_simplified'], axis=1)  # Features\n",
    "y = df_final['CurName_simplified']  # Target variable"
   ]
  },
  {
   "cell_type": "code",
   "execution_count": 32,
   "id": "952c426c-68e5-4638-bd5e-679112ca0a40",
   "metadata": {},
   "outputs": [
    {
     "name": "stdout",
     "output_type": "stream",
     "text": [
      "Training set size: (28625, 20242)\n",
      "Testing set size: (9542, 20242)\n"
     ]
    }
   ],
   "source": [
    "X_train, X_test, y_train, y_test = train_test_split(X, y, test_size=0.25, random_state=42)\n",
    "\n",
    "print(\"Training set size:\", X_train.shape)\n",
    "print(\"Testing set size:\", X_test.shape)"
   ]
  },
  {
   "cell_type": "code",
   "execution_count": 33,
   "id": "aafec9fa-b022-4623-9805-a1045611c273",
   "metadata": {},
   "outputs": [
    {
     "data": {
      "text/plain": [
       "3096    APC family permease\n",
       "Name: CurName_simplified, dtype: object"
      ]
     },
     "execution_count": 33,
     "metadata": {},
     "output_type": "execute_result"
    }
   ],
   "source": [
    "#test access\n",
    "X_train.iloc[[29]]\n",
    "y_train.iloc[[29]]"
   ]
  },
  {
   "cell_type": "markdown",
   "id": "c538df64-7828-46bd-bf63-b30afdf5e338",
   "metadata": {},
   "source": [
    "## Decision Tree Classifier"
   ]
  },
  {
   "cell_type": "code",
   "execution_count": 34,
   "id": "c7f7a408-e301-414c-ab39-1f209bfb4f2b",
   "metadata": {},
   "outputs": [],
   "source": [
    "from sklearn.tree import DecisionTreeClassifier\n",
    "from sklearn.tree import plot_tree"
   ]
  },
  {
   "cell_type": "code",
   "execution_count": 35,
   "id": "a3a74480-102b-4258-b6c4-a61e7bb94767",
   "metadata": {},
   "outputs": [],
   "source": [
    "# Initialize the Decision Tree Classifier\n",
    "clf = DecisionTreeClassifier(random_state=42)"
   ]
  },
  {
   "cell_type": "code",
   "execution_count": 36,
   "id": "ba26bd95-4500-47cc-894c-6ccf3abc39f5",
   "metadata": {},
   "outputs": [
    {
     "data": {
      "text/html": [
       "<style>#sk-container-id-1 {\n",
       "  /* Definition of color scheme common for light and dark mode */\n",
       "  --sklearn-color-text: black;\n",
       "  --sklearn-color-line: gray;\n",
       "  /* Definition of color scheme for unfitted estimators */\n",
       "  --sklearn-color-unfitted-level-0: #fff5e6;\n",
       "  --sklearn-color-unfitted-level-1: #f6e4d2;\n",
       "  --sklearn-color-unfitted-level-2: #ffe0b3;\n",
       "  --sklearn-color-unfitted-level-3: chocolate;\n",
       "  /* Definition of color scheme for fitted estimators */\n",
       "  --sklearn-color-fitted-level-0: #f0f8ff;\n",
       "  --sklearn-color-fitted-level-1: #d4ebff;\n",
       "  --sklearn-color-fitted-level-2: #b3dbfd;\n",
       "  --sklearn-color-fitted-level-3: cornflowerblue;\n",
       "\n",
       "  /* Specific color for light theme */\n",
       "  --sklearn-color-text-on-default-background: var(--sg-text-color, var(--theme-code-foreground, var(--jp-content-font-color1, black)));\n",
       "  --sklearn-color-background: var(--sg-background-color, var(--theme-background, var(--jp-layout-color0, white)));\n",
       "  --sklearn-color-border-box: var(--sg-text-color, var(--theme-code-foreground, var(--jp-content-font-color1, black)));\n",
       "  --sklearn-color-icon: #696969;\n",
       "\n",
       "  @media (prefers-color-scheme: dark) {\n",
       "    /* Redefinition of color scheme for dark theme */\n",
       "    --sklearn-color-text-on-default-background: var(--sg-text-color, var(--theme-code-foreground, var(--jp-content-font-color1, white)));\n",
       "    --sklearn-color-background: var(--sg-background-color, var(--theme-background, var(--jp-layout-color0, #111)));\n",
       "    --sklearn-color-border-box: var(--sg-text-color, var(--theme-code-foreground, var(--jp-content-font-color1, white)));\n",
       "    --sklearn-color-icon: #878787;\n",
       "  }\n",
       "}\n",
       "\n",
       "#sk-container-id-1 {\n",
       "  color: var(--sklearn-color-text);\n",
       "}\n",
       "\n",
       "#sk-container-id-1 pre {\n",
       "  padding: 0;\n",
       "}\n",
       "\n",
       "#sk-container-id-1 input.sk-hidden--visually {\n",
       "  border: 0;\n",
       "  clip: rect(1px 1px 1px 1px);\n",
       "  clip: rect(1px, 1px, 1px, 1px);\n",
       "  height: 1px;\n",
       "  margin: -1px;\n",
       "  overflow: hidden;\n",
       "  padding: 0;\n",
       "  position: absolute;\n",
       "  width: 1px;\n",
       "}\n",
       "\n",
       "#sk-container-id-1 div.sk-dashed-wrapped {\n",
       "  border: 1px dashed var(--sklearn-color-line);\n",
       "  margin: 0 0.4em 0.5em 0.4em;\n",
       "  box-sizing: border-box;\n",
       "  padding-bottom: 0.4em;\n",
       "  background-color: var(--sklearn-color-background);\n",
       "}\n",
       "\n",
       "#sk-container-id-1 div.sk-container {\n",
       "  /* jupyter's `normalize.less` sets `[hidden] { display: none; }`\n",
       "     but bootstrap.min.css set `[hidden] { display: none !important; }`\n",
       "     so we also need the `!important` here to be able to override the\n",
       "     default hidden behavior on the sphinx rendered scikit-learn.org.\n",
       "     See: https://github.com/scikit-learn/scikit-learn/issues/21755 */\n",
       "  display: inline-block !important;\n",
       "  position: relative;\n",
       "}\n",
       "\n",
       "#sk-container-id-1 div.sk-text-repr-fallback {\n",
       "  display: none;\n",
       "}\n",
       "\n",
       "div.sk-parallel-item,\n",
       "div.sk-serial,\n",
       "div.sk-item {\n",
       "  /* draw centered vertical line to link estimators */\n",
       "  background-image: linear-gradient(var(--sklearn-color-text-on-default-background), var(--sklearn-color-text-on-default-background));\n",
       "  background-size: 2px 100%;\n",
       "  background-repeat: no-repeat;\n",
       "  background-position: center center;\n",
       "}\n",
       "\n",
       "/* Parallel-specific style estimator block */\n",
       "\n",
       "#sk-container-id-1 div.sk-parallel-item::after {\n",
       "  content: \"\";\n",
       "  width: 100%;\n",
       "  border-bottom: 2px solid var(--sklearn-color-text-on-default-background);\n",
       "  flex-grow: 1;\n",
       "}\n",
       "\n",
       "#sk-container-id-1 div.sk-parallel {\n",
       "  display: flex;\n",
       "  align-items: stretch;\n",
       "  justify-content: center;\n",
       "  background-color: var(--sklearn-color-background);\n",
       "  position: relative;\n",
       "}\n",
       "\n",
       "#sk-container-id-1 div.sk-parallel-item {\n",
       "  display: flex;\n",
       "  flex-direction: column;\n",
       "}\n",
       "\n",
       "#sk-container-id-1 div.sk-parallel-item:first-child::after {\n",
       "  align-self: flex-end;\n",
       "  width: 50%;\n",
       "}\n",
       "\n",
       "#sk-container-id-1 div.sk-parallel-item:last-child::after {\n",
       "  align-self: flex-start;\n",
       "  width: 50%;\n",
       "}\n",
       "\n",
       "#sk-container-id-1 div.sk-parallel-item:only-child::after {\n",
       "  width: 0;\n",
       "}\n",
       "\n",
       "/* Serial-specific style estimator block */\n",
       "\n",
       "#sk-container-id-1 div.sk-serial {\n",
       "  display: flex;\n",
       "  flex-direction: column;\n",
       "  align-items: center;\n",
       "  background-color: var(--sklearn-color-background);\n",
       "  padding-right: 1em;\n",
       "  padding-left: 1em;\n",
       "}\n",
       "\n",
       "\n",
       "/* Toggleable style: style used for estimator/Pipeline/ColumnTransformer box that is\n",
       "clickable and can be expanded/collapsed.\n",
       "- Pipeline and ColumnTransformer use this feature and define the default style\n",
       "- Estimators will overwrite some part of the style using the `sk-estimator` class\n",
       "*/\n",
       "\n",
       "/* Pipeline and ColumnTransformer style (default) */\n",
       "\n",
       "#sk-container-id-1 div.sk-toggleable {\n",
       "  /* Default theme specific background. It is overwritten whether we have a\n",
       "  specific estimator or a Pipeline/ColumnTransformer */\n",
       "  background-color: var(--sklearn-color-background);\n",
       "}\n",
       "\n",
       "/* Toggleable label */\n",
       "#sk-container-id-1 label.sk-toggleable__label {\n",
       "  cursor: pointer;\n",
       "  display: block;\n",
       "  width: 100%;\n",
       "  margin-bottom: 0;\n",
       "  padding: 0.5em;\n",
       "  box-sizing: border-box;\n",
       "  text-align: center;\n",
       "}\n",
       "\n",
       "#sk-container-id-1 label.sk-toggleable__label-arrow:before {\n",
       "  /* Arrow on the left of the label */\n",
       "  content: \"▸\";\n",
       "  float: left;\n",
       "  margin-right: 0.25em;\n",
       "  color: var(--sklearn-color-icon);\n",
       "}\n",
       "\n",
       "#sk-container-id-1 label.sk-toggleable__label-arrow:hover:before {\n",
       "  color: var(--sklearn-color-text);\n",
       "}\n",
       "\n",
       "/* Toggleable content - dropdown */\n",
       "\n",
       "#sk-container-id-1 div.sk-toggleable__content {\n",
       "  max-height: 0;\n",
       "  max-width: 0;\n",
       "  overflow: hidden;\n",
       "  text-align: left;\n",
       "  /* unfitted */\n",
       "  background-color: var(--sklearn-color-unfitted-level-0);\n",
       "}\n",
       "\n",
       "#sk-container-id-1 div.sk-toggleable__content.fitted {\n",
       "  /* fitted */\n",
       "  background-color: var(--sklearn-color-fitted-level-0);\n",
       "}\n",
       "\n",
       "#sk-container-id-1 div.sk-toggleable__content pre {\n",
       "  margin: 0.2em;\n",
       "  border-radius: 0.25em;\n",
       "  color: var(--sklearn-color-text);\n",
       "  /* unfitted */\n",
       "  background-color: var(--sklearn-color-unfitted-level-0);\n",
       "}\n",
       "\n",
       "#sk-container-id-1 div.sk-toggleable__content.fitted pre {\n",
       "  /* unfitted */\n",
       "  background-color: var(--sklearn-color-fitted-level-0);\n",
       "}\n",
       "\n",
       "#sk-container-id-1 input.sk-toggleable__control:checked~div.sk-toggleable__content {\n",
       "  /* Expand drop-down */\n",
       "  max-height: 200px;\n",
       "  max-width: 100%;\n",
       "  overflow: auto;\n",
       "}\n",
       "\n",
       "#sk-container-id-1 input.sk-toggleable__control:checked~label.sk-toggleable__label-arrow:before {\n",
       "  content: \"▾\";\n",
       "}\n",
       "\n",
       "/* Pipeline/ColumnTransformer-specific style */\n",
       "\n",
       "#sk-container-id-1 div.sk-label input.sk-toggleable__control:checked~label.sk-toggleable__label {\n",
       "  color: var(--sklearn-color-text);\n",
       "  background-color: var(--sklearn-color-unfitted-level-2);\n",
       "}\n",
       "\n",
       "#sk-container-id-1 div.sk-label.fitted input.sk-toggleable__control:checked~label.sk-toggleable__label {\n",
       "  background-color: var(--sklearn-color-fitted-level-2);\n",
       "}\n",
       "\n",
       "/* Estimator-specific style */\n",
       "\n",
       "/* Colorize estimator box */\n",
       "#sk-container-id-1 div.sk-estimator input.sk-toggleable__control:checked~label.sk-toggleable__label {\n",
       "  /* unfitted */\n",
       "  background-color: var(--sklearn-color-unfitted-level-2);\n",
       "}\n",
       "\n",
       "#sk-container-id-1 div.sk-estimator.fitted input.sk-toggleable__control:checked~label.sk-toggleable__label {\n",
       "  /* fitted */\n",
       "  background-color: var(--sklearn-color-fitted-level-2);\n",
       "}\n",
       "\n",
       "#sk-container-id-1 div.sk-label label.sk-toggleable__label,\n",
       "#sk-container-id-1 div.sk-label label {\n",
       "  /* The background is the default theme color */\n",
       "  color: var(--sklearn-color-text-on-default-background);\n",
       "}\n",
       "\n",
       "/* On hover, darken the color of the background */\n",
       "#sk-container-id-1 div.sk-label:hover label.sk-toggleable__label {\n",
       "  color: var(--sklearn-color-text);\n",
       "  background-color: var(--sklearn-color-unfitted-level-2);\n",
       "}\n",
       "\n",
       "/* Label box, darken color on hover, fitted */\n",
       "#sk-container-id-1 div.sk-label.fitted:hover label.sk-toggleable__label.fitted {\n",
       "  color: var(--sklearn-color-text);\n",
       "  background-color: var(--sklearn-color-fitted-level-2);\n",
       "}\n",
       "\n",
       "/* Estimator label */\n",
       "\n",
       "#sk-container-id-1 div.sk-label label {\n",
       "  font-family: monospace;\n",
       "  font-weight: bold;\n",
       "  display: inline-block;\n",
       "  line-height: 1.2em;\n",
       "}\n",
       "\n",
       "#sk-container-id-1 div.sk-label-container {\n",
       "  text-align: center;\n",
       "}\n",
       "\n",
       "/* Estimator-specific */\n",
       "#sk-container-id-1 div.sk-estimator {\n",
       "  font-family: monospace;\n",
       "  border: 1px dotted var(--sklearn-color-border-box);\n",
       "  border-radius: 0.25em;\n",
       "  box-sizing: border-box;\n",
       "  margin-bottom: 0.5em;\n",
       "  /* unfitted */\n",
       "  background-color: var(--sklearn-color-unfitted-level-0);\n",
       "}\n",
       "\n",
       "#sk-container-id-1 div.sk-estimator.fitted {\n",
       "  /* fitted */\n",
       "  background-color: var(--sklearn-color-fitted-level-0);\n",
       "}\n",
       "\n",
       "/* on hover */\n",
       "#sk-container-id-1 div.sk-estimator:hover {\n",
       "  /* unfitted */\n",
       "  background-color: var(--sklearn-color-unfitted-level-2);\n",
       "}\n",
       "\n",
       "#sk-container-id-1 div.sk-estimator.fitted:hover {\n",
       "  /* fitted */\n",
       "  background-color: var(--sklearn-color-fitted-level-2);\n",
       "}\n",
       "\n",
       "/* Specification for estimator info (e.g. \"i\" and \"?\") */\n",
       "\n",
       "/* Common style for \"i\" and \"?\" */\n",
       "\n",
       ".sk-estimator-doc-link,\n",
       "a:link.sk-estimator-doc-link,\n",
       "a:visited.sk-estimator-doc-link {\n",
       "  float: right;\n",
       "  font-size: smaller;\n",
       "  line-height: 1em;\n",
       "  font-family: monospace;\n",
       "  background-color: var(--sklearn-color-background);\n",
       "  border-radius: 1em;\n",
       "  height: 1em;\n",
       "  width: 1em;\n",
       "  text-decoration: none !important;\n",
       "  margin-left: 1ex;\n",
       "  /* unfitted */\n",
       "  border: var(--sklearn-color-unfitted-level-1) 1pt solid;\n",
       "  color: var(--sklearn-color-unfitted-level-1);\n",
       "}\n",
       "\n",
       ".sk-estimator-doc-link.fitted,\n",
       "a:link.sk-estimator-doc-link.fitted,\n",
       "a:visited.sk-estimator-doc-link.fitted {\n",
       "  /* fitted */\n",
       "  border: var(--sklearn-color-fitted-level-1) 1pt solid;\n",
       "  color: var(--sklearn-color-fitted-level-1);\n",
       "}\n",
       "\n",
       "/* On hover */\n",
       "div.sk-estimator:hover .sk-estimator-doc-link:hover,\n",
       ".sk-estimator-doc-link:hover,\n",
       "div.sk-label-container:hover .sk-estimator-doc-link:hover,\n",
       ".sk-estimator-doc-link:hover {\n",
       "  /* unfitted */\n",
       "  background-color: var(--sklearn-color-unfitted-level-3);\n",
       "  color: var(--sklearn-color-background);\n",
       "  text-decoration: none;\n",
       "}\n",
       "\n",
       "div.sk-estimator.fitted:hover .sk-estimator-doc-link.fitted:hover,\n",
       ".sk-estimator-doc-link.fitted:hover,\n",
       "div.sk-label-container:hover .sk-estimator-doc-link.fitted:hover,\n",
       ".sk-estimator-doc-link.fitted:hover {\n",
       "  /* fitted */\n",
       "  background-color: var(--sklearn-color-fitted-level-3);\n",
       "  color: var(--sklearn-color-background);\n",
       "  text-decoration: none;\n",
       "}\n",
       "\n",
       "/* Span, style for the box shown on hovering the info icon */\n",
       ".sk-estimator-doc-link span {\n",
       "  display: none;\n",
       "  z-index: 9999;\n",
       "  position: relative;\n",
       "  font-weight: normal;\n",
       "  right: .2ex;\n",
       "  padding: .5ex;\n",
       "  margin: .5ex;\n",
       "  width: min-content;\n",
       "  min-width: 20ex;\n",
       "  max-width: 50ex;\n",
       "  color: var(--sklearn-color-text);\n",
       "  box-shadow: 2pt 2pt 4pt #999;\n",
       "  /* unfitted */\n",
       "  background: var(--sklearn-color-unfitted-level-0);\n",
       "  border: .5pt solid var(--sklearn-color-unfitted-level-3);\n",
       "}\n",
       "\n",
       ".sk-estimator-doc-link.fitted span {\n",
       "  /* fitted */\n",
       "  background: var(--sklearn-color-fitted-level-0);\n",
       "  border: var(--sklearn-color-fitted-level-3);\n",
       "}\n",
       "\n",
       ".sk-estimator-doc-link:hover span {\n",
       "  display: block;\n",
       "}\n",
       "\n",
       "/* \"?\"-specific style due to the `<a>` HTML tag */\n",
       "\n",
       "#sk-container-id-1 a.estimator_doc_link {\n",
       "  float: right;\n",
       "  font-size: 1rem;\n",
       "  line-height: 1em;\n",
       "  font-family: monospace;\n",
       "  background-color: var(--sklearn-color-background);\n",
       "  border-radius: 1rem;\n",
       "  height: 1rem;\n",
       "  width: 1rem;\n",
       "  text-decoration: none;\n",
       "  /* unfitted */\n",
       "  color: var(--sklearn-color-unfitted-level-1);\n",
       "  border: var(--sklearn-color-unfitted-level-1) 1pt solid;\n",
       "}\n",
       "\n",
       "#sk-container-id-1 a.estimator_doc_link.fitted {\n",
       "  /* fitted */\n",
       "  border: var(--sklearn-color-fitted-level-1) 1pt solid;\n",
       "  color: var(--sklearn-color-fitted-level-1);\n",
       "}\n",
       "\n",
       "/* On hover */\n",
       "#sk-container-id-1 a.estimator_doc_link:hover {\n",
       "  /* unfitted */\n",
       "  background-color: var(--sklearn-color-unfitted-level-3);\n",
       "  color: var(--sklearn-color-background);\n",
       "  text-decoration: none;\n",
       "}\n",
       "\n",
       "#sk-container-id-1 a.estimator_doc_link.fitted:hover {\n",
       "  /* fitted */\n",
       "  background-color: var(--sklearn-color-fitted-level-3);\n",
       "}\n",
       "</style><div id=\"sk-container-id-1\" class=\"sk-top-container\"><div class=\"sk-text-repr-fallback\"><pre>DecisionTreeClassifier(random_state=42)</pre><b>In a Jupyter environment, please rerun this cell to show the HTML representation or trust the notebook. <br />On GitHub, the HTML representation is unable to render, please try loading this page with nbviewer.org.</b></div><div class=\"sk-container\" hidden><div class=\"sk-item\"><div class=\"sk-estimator fitted sk-toggleable\"><input class=\"sk-toggleable__control sk-hidden--visually\" id=\"sk-estimator-id-1\" type=\"checkbox\" checked><label for=\"sk-estimator-id-1\" class=\"sk-toggleable__label fitted sk-toggleable__label-arrow fitted\">&nbsp;&nbsp;DecisionTreeClassifier<a class=\"sk-estimator-doc-link fitted\" rel=\"noreferrer\" target=\"_blank\" href=\"https://scikit-learn.org/1.4/modules/generated/sklearn.tree.DecisionTreeClassifier.html\">?<span>Documentation for DecisionTreeClassifier</span></a><span class=\"sk-estimator-doc-link fitted\">i<span>Fitted</span></span></label><div class=\"sk-toggleable__content fitted\"><pre>DecisionTreeClassifier(random_state=42)</pre></div> </div></div></div></div>"
      ],
      "text/plain": [
       "DecisionTreeClassifier(random_state=42)"
      ]
     },
     "execution_count": 36,
     "metadata": {},
     "output_type": "execute_result"
    }
   ],
   "source": [
    "# Fit the model on the training data\n",
    "clf.fit(X_train, y_train)"
   ]
  },
  {
   "cell_type": "code",
   "execution_count": 37,
   "id": "bd0f1b53-5a79-4826-acc4-6092b97d4636",
   "metadata": {},
   "outputs": [],
   "source": [
    "# Make predictions and evaluate the model\n",
    "predictions = clf.predict(X_test)"
   ]
  },
  {
   "cell_type": "code",
   "execution_count": 38,
   "id": "c5f4adf7-40f3-41fc-b28a-2f285dedfd33",
   "metadata": {},
   "outputs": [
    {
     "name": "stdout",
     "output_type": "stream",
     "text": [
      "Accuracy: 0.39834416264933975\n"
     ]
    }
   ],
   "source": [
    "# Evaluate the model (e.g.: accuracy)\n",
    "from sklearn.metrics import accuracy_score\n",
    "accuracy = accuracy_score(y_test, predictions)\n",
    "\n",
    "print(\"Accuracy:\", accuracy)"
   ]
  },
  {
   "cell_type": "markdown",
   "id": "c093f5f3-6e28-48e9-9c0d-2f266e19d4a2",
   "metadata": {},
   "source": [
    "### Prediction results"
   ]
  },
  {
   "cell_type": "markdown",
   "id": "b9f35567-c027-4767-925c-37e591c7f291",
   "metadata": {},
   "source": [
    "#### One_hot_encoding with SuperFamily Only "
   ]
  },
  {
   "cell_type": "code",
   "execution_count": 39,
   "id": "da9430cf-0962-41c3-a39a-38388cc4b6b3",
   "metadata": {},
   "outputs": [
    {
     "name": "stdout",
     "output_type": "stream",
     "text": [
      "Accuracy: 0.39834416264933975\n",
      "9542 3801\n"
     ]
    },
    {
     "data": {
      "text/html": [
       "<div>\n",
       "<style scoped>\n",
       "    .dataframe tbody tr th:only-of-type {\n",
       "        vertical-align: middle;\n",
       "    }\n",
       "\n",
       "    .dataframe tbody tr th {\n",
       "        vertical-align: top;\n",
       "    }\n",
       "\n",
       "    .dataframe thead th {\n",
       "        text-align: right;\n",
       "    }\n",
       "</style>\n",
       "<table border=\"1\" class=\"dataframe\">\n",
       "  <thead>\n",
       "    <tr style=\"text-align: right;\">\n",
       "      <th></th>\n",
       "      <th>Actual</th>\n",
       "      <th>Predicted</th>\n",
       "      <th>Equal</th>\n",
       "    </tr>\n",
       "  </thead>\n",
       "  <tbody>\n",
       "    <tr>\n",
       "      <th>7294</th>\n",
       "      <td>CPBP family intramembrane glutamic endopeptidase</td>\n",
       "      <td>lysostaphin resistance A-like protein</td>\n",
       "      <td>False</td>\n",
       "    </tr>\n",
       "    <tr>\n",
       "      <th>11361</th>\n",
       "      <td>DUF4059 family protein</td>\n",
       "      <td>MFS transporter</td>\n",
       "      <td>False</td>\n",
       "    </tr>\n",
       "    <tr>\n",
       "      <th>27603</th>\n",
       "      <td>radical SAM protein</td>\n",
       "      <td>MFS transporter</td>\n",
       "      <td>False</td>\n",
       "    </tr>\n",
       "    <tr>\n",
       "      <th>1794</th>\n",
       "      <td>acyltransferase family protein</td>\n",
       "      <td>ACP S-malonyltransferase</td>\n",
       "      <td>False</td>\n",
       "    </tr>\n",
       "    <tr>\n",
       "      <th>8671</th>\n",
       "      <td>dihydroorotase</td>\n",
       "      <td>amidohydrolase</td>\n",
       "      <td>False</td>\n",
       "    </tr>\n",
       "    <tr>\n",
       "      <th>24411</th>\n",
       "      <td>p-aminobenzoyl-glutamate transporter</td>\n",
       "      <td>anaerobic C4-dicarboxylate transporter</td>\n",
       "      <td>False</td>\n",
       "    </tr>\n",
       "    <tr>\n",
       "      <th>22878</th>\n",
       "      <td>NAD-dependent DNA ligase LigB</td>\n",
       "      <td>ATP-dependent DNA ligase</td>\n",
       "      <td>False</td>\n",
       "    </tr>\n",
       "    <tr>\n",
       "      <th>32867</th>\n",
       "      <td>TatD family hydrolase</td>\n",
       "      <td>MFS transporter</td>\n",
       "      <td>False</td>\n",
       "    </tr>\n",
       "    <tr>\n",
       "      <th>5508</th>\n",
       "      <td>cadherin repeat domain-containing protein</td>\n",
       "      <td>MFS transporter</td>\n",
       "      <td>False</td>\n",
       "    </tr>\n",
       "    <tr>\n",
       "      <th>36900</th>\n",
       "      <td>xanthine dehydrogenase FAD-binding subunit XdhB</td>\n",
       "      <td>MFS transporter</td>\n",
       "      <td>False</td>\n",
       "    </tr>\n",
       "    <tr>\n",
       "      <th>25630</th>\n",
       "      <td>phosphonoacetaldehyde reductase</td>\n",
       "      <td>iron-containing alcohol dehydrogenase</td>\n",
       "      <td>False</td>\n",
       "    </tr>\n",
       "    <tr>\n",
       "      <th>13787</th>\n",
       "      <td>FecR family protein</td>\n",
       "      <td>MFS transporter</td>\n",
       "      <td>False</td>\n",
       "    </tr>\n",
       "    <tr>\n",
       "      <th>23050</th>\n",
       "      <td>NADH-quinone oxidoreductase subunit</td>\n",
       "      <td>NADH oxidoreductase (quinone) subunit F</td>\n",
       "      <td>False</td>\n",
       "    </tr>\n",
       "    <tr>\n",
       "      <th>35232</th>\n",
       "      <td>type II restriction endonuclease</td>\n",
       "      <td>MFS transporter</td>\n",
       "      <td>False</td>\n",
       "    </tr>\n",
       "    <tr>\n",
       "      <th>9164</th>\n",
       "      <td>DNA topoisomerase</td>\n",
       "      <td>MFS transporter</td>\n",
       "      <td>False</td>\n",
       "    </tr>\n",
       "    <tr>\n",
       "      <th>32147</th>\n",
       "      <td>spore protease YyaC</td>\n",
       "      <td>GPR endopeptidase</td>\n",
       "      <td>False</td>\n",
       "    </tr>\n",
       "    <tr>\n",
       "      <th>22638</th>\n",
       "      <td>N-acetylmuramic acid 6-phosphate etherase</td>\n",
       "      <td>MFS transporter</td>\n",
       "      <td>False</td>\n",
       "    </tr>\n",
       "    <tr>\n",
       "      <th>22494</th>\n",
       "      <td>myc box-dependent-interacting protein 1</td>\n",
       "      <td>MFS transporter</td>\n",
       "      <td>False</td>\n",
       "    </tr>\n",
       "    <tr>\n",
       "      <th>4707</th>\n",
       "      <td>bifunctional serine/threonine-protein kinase/t...</td>\n",
       "      <td>serine/threonine-protein kinase</td>\n",
       "      <td>False</td>\n",
       "    </tr>\n",
       "    <tr>\n",
       "      <th>11854</th>\n",
       "      <td>DUF4837 family protein</td>\n",
       "      <td>MFS transporter</td>\n",
       "      <td>False</td>\n",
       "    </tr>\n",
       "    <tr>\n",
       "      <th>35394</th>\n",
       "      <td>type II/IV secretion system protein</td>\n",
       "      <td>type II secretion system protein</td>\n",
       "      <td>False</td>\n",
       "    </tr>\n",
       "    <tr>\n",
       "      <th>18357</th>\n",
       "      <td>insulinase family protein</td>\n",
       "      <td>MFS transporter</td>\n",
       "      <td>False</td>\n",
       "    </tr>\n",
       "    <tr>\n",
       "      <th>27084</th>\n",
       "      <td>PRP40 family protein</td>\n",
       "      <td>MFS transporter</td>\n",
       "      <td>False</td>\n",
       "    </tr>\n",
       "    <tr>\n",
       "      <th>6081</th>\n",
       "      <td>CDP-glycerol:glycerophosphate glycerophosphotr...</td>\n",
       "      <td>MFS transporter</td>\n",
       "      <td>False</td>\n",
       "    </tr>\n",
       "    <tr>\n",
       "      <th>28518</th>\n",
       "      <td>ribonuclease HII</td>\n",
       "      <td>ribonuclease H family protein</td>\n",
       "      <td>False</td>\n",
       "    </tr>\n",
       "  </tbody>\n",
       "</table>\n",
       "</div>"
      ],
      "text/plain": [
       "                                                  Actual  \\\n",
       "7294    CPBP family intramembrane glutamic endopeptidase   \n",
       "11361                             DUF4059 family protein   \n",
       "27603                                radical SAM protein   \n",
       "1794                      acyltransferase family protein   \n",
       "8671                                      dihydroorotase   \n",
       "24411               p-aminobenzoyl-glutamate transporter   \n",
       "22878                      NAD-dependent DNA ligase LigB   \n",
       "32867                              TatD family hydrolase   \n",
       "5508           cadherin repeat domain-containing protein   \n",
       "36900    xanthine dehydrogenase FAD-binding subunit XdhB   \n",
       "25630                    phosphonoacetaldehyde reductase   \n",
       "13787                                FecR family protein   \n",
       "23050                NADH-quinone oxidoreductase subunit   \n",
       "35232                   type II restriction endonuclease   \n",
       "9164                                   DNA topoisomerase   \n",
       "32147                                spore protease YyaC   \n",
       "22638          N-acetylmuramic acid 6-phosphate etherase   \n",
       "22494            myc box-dependent-interacting protein 1   \n",
       "4707   bifunctional serine/threonine-protein kinase/t...   \n",
       "11854                             DUF4837 family protein   \n",
       "35394                type II/IV secretion system protein   \n",
       "18357                          insulinase family protein   \n",
       "27084                               PRP40 family protein   \n",
       "6081   CDP-glycerol:glycerophosphate glycerophosphotr...   \n",
       "28518                                   ribonuclease HII   \n",
       "\n",
       "                                     Predicted  Equal  \n",
       "7294     lysostaphin resistance A-like protein  False  \n",
       "11361                          MFS transporter  False  \n",
       "27603                          MFS transporter  False  \n",
       "1794                  ACP S-malonyltransferase  False  \n",
       "8671                            amidohydrolase  False  \n",
       "24411   anaerobic C4-dicarboxylate transporter  False  \n",
       "22878                 ATP-dependent DNA ligase  False  \n",
       "32867                          MFS transporter  False  \n",
       "5508                           MFS transporter  False  \n",
       "36900                          MFS transporter  False  \n",
       "25630    iron-containing alcohol dehydrogenase  False  \n",
       "13787                          MFS transporter  False  \n",
       "23050  NADH oxidoreductase (quinone) subunit F  False  \n",
       "35232                          MFS transporter  False  \n",
       "9164                           MFS transporter  False  \n",
       "32147                        GPR endopeptidase  False  \n",
       "22638                          MFS transporter  False  \n",
       "22494                          MFS transporter  False  \n",
       "4707           serine/threonine-protein kinase  False  \n",
       "11854                          MFS transporter  False  \n",
       "35394         type II secretion system protein  False  \n",
       "18357                          MFS transporter  False  \n",
       "27084                          MFS transporter  False  \n",
       "6081                           MFS transporter  False  \n",
       "28518            ribonuclease H family protein  False  "
      ]
     },
     "execution_count": 39,
     "metadata": {},
     "output_type": "execute_result"
    }
   ],
   "source": [
    "#75% training, 25% testing, SuperFamily Only!\n",
    "# Evaluate the model (e.g.: accuracy)\n",
    "from sklearn.metrics import accuracy_score\n",
    "accuracy = accuracy_score(y_test, predictions)\n",
    "\n",
    "print(\"Accuracy:\", accuracy)\n",
    "\n",
    "comparison_df = pd.DataFrame({'Actual': y_test, 'Predicted': predictions, 'Equal': predictions==y_test}).sort_values(by='Equal')\n",
    "print(len(comparison_df), len(comparison_df[comparison_df[\"Equal\"] == True]))\n",
    "comparison_df.head(25)"
   ]
  },
  {
   "cell_type": "code",
   "execution_count": 40,
   "id": "9198668e-28b2-4002-afa0-686a9818187b",
   "metadata": {},
   "outputs": [
    {
     "name": "stdout",
     "output_type": "stream",
     "text": [
      "Predicted\n",
      "MFS transporter                                                                                       3523\n",
      "serine/threonine-protein kinase                                                                        109\n",
      "SDR family oxidoreductase                                                                              103\n",
      "RNA-binding protein                                                                                     96\n",
      "hybrid sensor histidine kinase/response regulator                                                       74\n",
      "                                                                                                      ... \n",
      "DUF2332 domain-containing protein                                                                        1\n",
      "methane monooxygenase/ammonia monooxygenase subunit                                                      1\n",
      "YuzD family protein                                                                                      1\n",
      "YibE/F family protein                                                                                    1\n",
      "bifunctional 2-polyprenyl-6-hydroxyphenol methylase/3-demethylubiquinol 3-O-methyltransferase UbiG       1\n",
      "Name: count, Length: 2021, dtype: int64\n",
      "CurName_simplified\n",
      "hybrid sensor histidine kinase/response regulator    269\n",
      "MFS transporter                                      222\n",
      "RNA-binding protein                                  204\n",
      "serine/threonine-protein kinase                      194\n",
      "methyl-accepting chemotaxis protein                  192\n",
      "                                                    ... \n",
      "DUF3972 domain-containing protein                      1\n",
      "DUF5493 family protein                                 1\n",
      "alpha-protein kinase family protein                    1\n",
      "DUF5367 domain-containing protein                      1\n",
      "glycogen phosphorylase                                 1\n",
      "Name: count, Length: 9934, dtype: int64\n"
     ]
    }
   ],
   "source": [
    "print(comparison_df['Predicted'].value_counts())\n",
    "print(y_train.value_counts())"
   ]
  },
  {
   "cell_type": "code",
   "execution_count": 41,
   "id": "6e2f76c6-7955-4da2-99d7-3024c416cf15",
   "metadata": {},
   "outputs": [
    {
     "name": "stdout",
     "output_type": "stream",
     "text": [
      "30273\n",
      "15137\n",
      "14032\n"
     ]
    }
   ],
   "source": [
    "print(clf.tree_.node_count)\n",
    "print(clf.get_n_leaves())\n",
    "print(clf.get_depth())"
   ]
  },
  {
   "cell_type": "markdown",
   "id": "0136df76-e98e-49fa-a030-a3dd9aed14cc",
   "metadata": {},
   "source": []
  },
  {
   "cell_type": "code",
   "execution_count": 53,
   "id": "6a726dc8-8019-41c4-a684-3830e3491bec",
   "metadata": {},
   "outputs": [
    {
     "name": "stdout",
     "output_type": "stream",
     "text": [
      "Adjusted Accuracy: 43.45%\n",
      "65.50890798574723\n",
      "71.0051351917837\n",
      "65.04820792286732\n",
      "67.69052609515825\n"
     ]
    }
   ],
   "source": [
    "# Calculate scores and adjusted accuracy\n",
    "adjusted_accuracy, similarity_scores, partial_scores, token_sort_scores, token_set_scores = calculate_similarity_scores(predictions, y_test)\n",
    "\n",
    "print(f\"Adjusted Accuracy: {adjusted_accuracy*100:.2f}%\")\n",
    "print(sum(similarity_scores)/len(similarity_scores))\n",
    "print(sum(partial_scores)/len(partial_scores))\n",
    "print(sum(token_sort_scores)/len(token_sort_scores))\n",
    "print(sum(token_set_scores)/len(token_set_scores))\n",
    "\n",
    "#print(\"Token Set Scores:\", token_set_scores)\n",
    "#print(\"Similarity Scores:\", similarity_scores)\n",
    "#print(\"Partial Match Scores:\", partial_scores)\n",
    "#print(\"Token Sort Scores:\", token_sort_scores)\n",
    "#print(\"Token Set Scores:\", token_set_scores)"
   ]
  },
  {
   "cell_type": "code",
   "execution_count": null,
   "id": "dcef47ca-b617-48a0-8af7-cc224f164c7d",
   "metadata": {},
   "outputs": [],
   "source": []
  },
  {
   "cell_type": "code",
   "execution_count": null,
   "id": "b3306294-d768-4e7f-a295-b123d14d84d7",
   "metadata": {},
   "outputs": [],
   "source": []
  },
  {
   "cell_type": "code",
   "execution_count": null,
   "id": "8fd712ce-39db-4e92-9b6b-1789c6e0fd91",
   "metadata": {},
   "outputs": [],
   "source": []
  },
  {
   "cell_type": "markdown",
   "id": "970ed612-0781-45ec-b214-81feb6bca5de",
   "metadata": {
    "jp-MarkdownHeadingCollapsed": true
   },
   "source": [
    "#### Too small training set, One hot encoded specArch and super fam"
   ]
  },
  {
   "cell_type": "code",
   "execution_count": 42,
   "id": "65109db2-e699-473c-a658-943666ab97c8",
   "metadata": {},
   "outputs": [
    {
     "name": "stdout",
     "output_type": "stream",
     "text": [
      "28626 8033\n"
     ]
    },
    {
     "data": {
      "text/html": [
       "<div>\n",
       "<style scoped>\n",
       "    .dataframe tbody tr th:only-of-type {\n",
       "        vertical-align: middle;\n",
       "    }\n",
       "\n",
       "    .dataframe tbody tr th {\n",
       "        vertical-align: top;\n",
       "    }\n",
       "\n",
       "    .dataframe thead th {\n",
       "        text-align: right;\n",
       "    }\n",
       "</style>\n",
       "<table border=\"1\" class=\"dataframe\">\n",
       "  <thead>\n",
       "    <tr style=\"text-align: right;\">\n",
       "      <th></th>\n",
       "      <th>Actual</th>\n",
       "      <th>Predicted</th>\n",
       "      <th>Equal</th>\n",
       "    </tr>\n",
       "  </thead>\n",
       "  <tbody>\n",
       "    <tr>\n",
       "      <th>26528</th>\n",
       "      <td>prefoldin subunit alpha</td>\n",
       "      <td>prefoldin subunit</td>\n",
       "      <td>False</td>\n",
       "    </tr>\n",
       "    <tr>\n",
       "      <th>11399</th>\n",
       "      <td>DUF4125 family protein</td>\n",
       "      <td>transposase</td>\n",
       "      <td>False</td>\n",
       "    </tr>\n",
       "    <tr>\n",
       "      <th>6061</th>\n",
       "      <td>CDK5RAP3 family protein</td>\n",
       "      <td>transposase</td>\n",
       "      <td>False</td>\n",
       "    </tr>\n",
       "    <tr>\n",
       "      <th>12685</th>\n",
       "      <td>electron transfer flavoprotein subunit</td>\n",
       "      <td>transposase</td>\n",
       "      <td>False</td>\n",
       "    </tr>\n",
       "    <tr>\n",
       "      <th>33432</th>\n",
       "      <td>thiosulfate reductase PhsA</td>\n",
       "      <td>transposase</td>\n",
       "      <td>False</td>\n",
       "    </tr>\n",
       "    <tr>\n",
       "      <th>17461</th>\n",
       "      <td>Homer/Vesl family protein</td>\n",
       "      <td>Homer protein homolog</td>\n",
       "      <td>False</td>\n",
       "    </tr>\n",
       "    <tr>\n",
       "      <th>26130</th>\n",
       "      <td>pol protein pepsin-like aspartate protease and...</td>\n",
       "      <td>pol protein</td>\n",
       "      <td>False</td>\n",
       "    </tr>\n",
       "    <tr>\n",
       "      <th>14410</th>\n",
       "      <td>flagellin</td>\n",
       "      <td>transposase</td>\n",
       "      <td>False</td>\n",
       "    </tr>\n",
       "    <tr>\n",
       "      <th>15105</th>\n",
       "      <td>gelsolin-like protein</td>\n",
       "      <td>gelsolin/scinderin family protein</td>\n",
       "      <td>False</td>\n",
       "    </tr>\n",
       "    <tr>\n",
       "      <th>16747</th>\n",
       "      <td>HAMP domain-containing histidine kinase</td>\n",
       "      <td>sensor histidine kinase</td>\n",
       "      <td>False</td>\n",
       "    </tr>\n",
       "    <tr>\n",
       "      <th>13712</th>\n",
       "      <td>F-box/FBD/LRR-repeat protein</td>\n",
       "      <td>F-box protein</td>\n",
       "      <td>False</td>\n",
       "    </tr>\n",
       "    <tr>\n",
       "      <th>23847</th>\n",
       "      <td>nucleoside-specific channel-forming protein Tsx</td>\n",
       "      <td>transposase</td>\n",
       "      <td>False</td>\n",
       "    </tr>\n",
       "    <tr>\n",
       "      <th>3237</th>\n",
       "      <td>arginine N-succinyltransferase</td>\n",
       "      <td>transposase</td>\n",
       "      <td>False</td>\n",
       "    </tr>\n",
       "    <tr>\n",
       "      <th>12433</th>\n",
       "      <td>E3 ubiquitin-protein ligase</td>\n",
       "      <td>E3 ubiquitin protein ligase</td>\n",
       "      <td>False</td>\n",
       "    </tr>\n",
       "    <tr>\n",
       "      <th>21843</th>\n",
       "      <td>MFS transporter</td>\n",
       "      <td>protein kinase family protein</td>\n",
       "      <td>False</td>\n",
       "    </tr>\n",
       "  </tbody>\n",
       "</table>\n",
       "</div>"
      ],
      "text/plain": [
       "                                                  Actual  \\\n",
       "26528                            prefoldin subunit alpha   \n",
       "11399                             DUF4125 family protein   \n",
       "6061                             CDK5RAP3 family protein   \n",
       "12685             electron transfer flavoprotein subunit   \n",
       "33432                         thiosulfate reductase PhsA   \n",
       "17461                          Homer/Vesl family protein   \n",
       "26130  pol protein pepsin-like aspartate protease and...   \n",
       "14410                                          flagellin   \n",
       "15105                              gelsolin-like protein   \n",
       "16747            HAMP domain-containing histidine kinase   \n",
       "13712                       F-box/FBD/LRR-repeat protein   \n",
       "23847    nucleoside-specific channel-forming protein Tsx   \n",
       "3237                      arginine N-succinyltransferase   \n",
       "12433                        E3 ubiquitin-protein ligase   \n",
       "21843                                    MFS transporter   \n",
       "\n",
       "                               Predicted  Equal  \n",
       "26528                  prefoldin subunit  False  \n",
       "11399                        transposase  False  \n",
       "6061                         transposase  False  \n",
       "12685                        transposase  False  \n",
       "33432                        transposase  False  \n",
       "17461              Homer protein homolog  False  \n",
       "26130                        pol protein  False  \n",
       "14410                        transposase  False  \n",
       "15105  gelsolin/scinderin family protein  False  \n",
       "16747            sensor histidine kinase  False  \n",
       "13712                      F-box protein  False  \n",
       "23847                        transposase  False  \n",
       "3237                         transposase  False  \n",
       "12433        E3 ubiquitin protein ligase  False  \n",
       "21843      protein kinase family protein  False  "
      ]
     },
     "execution_count": 42,
     "metadata": {},
     "output_type": "execute_result"
    }
   ],
   "source": [
    "#25% training\n",
    "comparison_df = pd.DataFrame({'Actual': y_test, 'Predicted': predictions, 'Equal': predictions==y_test}).sort_values(by='Equal')\n",
    "print(len(comparison_df), len(comparison_df[comparison_df[\"Equal\"] == True]))\n",
    "comparison_df.head(15)"
   ]
  },
  {
   "cell_type": "code",
   "execution_count": 62,
   "id": "c1ba370e-552c-43e2-baf0-9c23667e9cbe",
   "metadata": {},
   "outputs": [
    {
     "name": "stdout",
     "output_type": "stream",
     "text": [
      "Predicted\n",
      "transposase                                                 13076\n",
      "SDR family oxidoreductase                                     327\n",
      "serine/threonine-protein kinase                               306\n",
      "RNA-binding protein                                           289\n",
      "hybrid sensor histidine kinase/response regulator             275\n",
      "                                                            ...  \n",
      "lipase family protein                                           1\n",
      "EAL domain-containing response regulator                        1\n",
      "retropepsin-like aspartic protease/reverse transcriptase        1\n",
      "terpene synthase family protein                                 1\n",
      "hypermethylated in cancer protein                               1\n",
      "Name: count, Length: 1127, dtype: int64\n",
      "\n",
      "Label \"transposase\" in training:  58\n"
     ]
    }
   ],
   "source": [
    "print(comparison_df['Predicted'].value_counts())\n",
    "print('\\nLabel \"transposase\" in training: ', len(y_train[y_train=='transposase']))"
   ]
  },
  {
   "cell_type": "code",
   "execution_count": 78,
   "id": "24d08ff5-99a0-4893-a9af-a156242d017f",
   "metadata": {},
   "outputs": [
    {
     "name": "stdout",
     "output_type": "stream",
     "text": [
      "4063\n",
      "2032\n",
      "1329\n"
     ]
    }
   ],
   "source": [
    "print(clf.tree_.node_count)\n",
    "print(clf.get_n_leaves())\n",
    "print(clf.get_depth())"
   ]
  },
  {
   "cell_type": "markdown",
   "id": "43d16e35-f26d-4701-8997-7a0a3dbd50c0",
   "metadata": {
    "jp-MarkdownHeadingCollapsed": true
   },
   "source": [
    "## Support Vector Machine (SVM)"
   ]
  },
  {
   "cell_type": "code",
   "execution_count": 85,
   "id": "71bb0a39-0d6b-4ac3-8ba0-675032f39e1d",
   "metadata": {},
   "outputs": [],
   "source": [
    "from sklearn.preprocessing import LabelEncoder\n",
    "from sklearn.model_selection import train_test_split, GridSearchCV\n",
    "from sklearn.svm import SVC\n",
    "from sklearn.metrics import accuracy_score\n",
    "import pandas as pd"
   ]
  },
  {
   "cell_type": "code",
   "execution_count": 86,
   "id": "1b1ac209-906f-43e6-9eef-3bd2928a8d37",
   "metadata": {},
   "outputs": [],
   "source": [
    "# Initialize the SVM classifier\n",
    "svm_clf = SVC(random_state=42)"
   ]
  },
  {
   "cell_type": "code",
   "execution_count": null,
   "id": "b8b2e4ef-026e-4c3b-bac9-efb3c7d74adb",
   "metadata": {},
   "outputs": [],
   "source": [
    "# Fit the model on the training data\n",
    "svm_clf.fit(X_train, y_train)"
   ]
  },
  {
   "cell_type": "code",
   "execution_count": null,
   "id": "6664a84e-a461-4979-8e21-70f12d46b497",
   "metadata": {},
   "outputs": [],
   "source": [
    "# Make predictions on the test set\n",
    "predictions = svm_clf.predict(X_test[1])"
   ]
  },
  {
   "cell_type": "code",
   "execution_count": 72,
   "id": "bf31d92e-02b0-437b-a792-7013cbe2e1d5",
   "metadata": {},
   "outputs": [
    {
     "data": {
      "text/plain": [
       "0.032"
      ]
     },
     "execution_count": 72,
     "metadata": {},
     "output_type": "execute_result"
    }
   ],
   "source": [
    "# Evaluate the model\n",
    "accuracy = accuracy_score(y_test, predictions)\n",
    "accuracy"
   ]
  },
  {
   "cell_type": "code",
   "execution_count": null,
   "id": "49b3e457-3373-4fbd-90e6-22b8b68fb346",
   "metadata": {},
   "outputs": [],
   "source": [
    "# Define the parameter grid for SVC\n",
    "param_grid = {\n",
    "    'C': [0.1, 1, 10],  # Example parameter: Regularization strength\n",
    "    'kernel': ['linear', 'rbf'],  # Example parameter: Type of SVM kernel\n",
    "    # Add other parameters here if needed\n",
    "}"
   ]
  },
  {
   "cell_type": "code",
   "execution_count": null,
   "id": "b71208cf-59df-4d67-9dcd-b25d3570fa45",
   "metadata": {},
   "outputs": [],
   "source": [
    "# Set n_jobs=-1 to use all available CPUs for parallelizing the search\n",
    "grid_search = GridSearchCV(SVC(random_state=42), param_grid, n_jobs=-1, verbose=1)\n"
   ]
  },
  {
   "cell_type": "code",
   "execution_count": null,
   "id": "f5f508bd-5660-4dbd-bdad-ad36c081c393",
   "metadata": {},
   "outputs": [],
   "source": [
    "grid_search.fit(X_train, y_train_encoded)"
   ]
  },
  {
   "cell_type": "code",
   "execution_count": null,
   "id": "cf3ccdc5-b55b-4521-b88f-b34af17ff245",
   "metadata": {},
   "outputs": [],
   "source": [
    "best_svc = grid_search.best_estimator_"
   ]
  },
  {
   "cell_type": "code",
   "execution_count": null,
   "id": "7b327fd2-1472-4d9c-8626-b25c531338f3",
   "metadata": {},
   "outputs": [],
   "source": [
    "predictions = best_svc.predict(X_test)"
   ]
  },
  {
   "cell_type": "code",
   "execution_count": null,
   "id": "ef1a2bc8-55a0-4c38-8fc1-b60dfe6c741d",
   "metadata": {},
   "outputs": [],
   "source": [
    "accuracy = accuracy_score(y_test_encoded, predictions)"
   ]
  },
  {
   "cell_type": "code",
   "execution_count": null,
   "id": "942eb4d8-aa8c-48a4-a75f-fbb37ddc0ca1",
   "metadata": {},
   "outputs": [],
   "source": [
    "print(\"Best SVC Parameters:\", grid_search.best_params_)\n",
    "print(\"SVM Accuracy with Best Parameters:\", accuracy)"
   ]
  },
  {
   "cell_type": "markdown",
   "id": "0af0c6bf-df1b-4113-a88e-5ba4c3e363c7",
   "metadata": {
    "jp-MarkdownHeadingCollapsed": true
   },
   "source": [
    "## Principal Component Analysis"
   ]
  },
  {
   "cell_type": "code",
   "execution_count": 73,
   "id": "31ac9c8d-1f19-4ffc-b2f5-26cc96d416a1",
   "metadata": {},
   "outputs": [],
   "source": [
    "from sklearn.decomposition import PCA\n",
    "from sklearn.preprocessing import StandardScaler\n",
    "from sklearn.model_selection import train_test_split"
   ]
  },
  {
   "cell_type": "code",
   "execution_count": 74,
   "id": "e14d9fae-d525-4bbb-bc6a-23153e4da2f2",
   "metadata": {},
   "outputs": [],
   "source": [
    "# standardize features before applying PCA\n",
    "scaler = StandardScaler()\n",
    "X_scaled = scaler.fit_transform(X)"
   ]
  },
  {
   "cell_type": "code",
   "execution_count": 78,
   "id": "d60a24c6-6742-47c7-98e2-6cc2c29f40ef",
   "metadata": {},
   "outputs": [],
   "source": [
    "# Initialize PCA - for example, to reduce the dataset to 2 principal components\n",
    "pca = PCA(n_components=0.95)\n",
    "X_train_pca = pca.fit_transform(X_train)\n",
    "X_test_pca = pca.transform(X_test)"
   ]
  },
  {
   "cell_type": "code",
   "execution_count": null,
   "id": "6cfabd41-c452-446c-a67a-2d1f2303ba24",
   "metadata": {},
   "outputs": [],
   "source": [
    "# The number of components PCA chose to keep\n",
    "print(\"Number of components chosen:\", pca.n_components_)"
   ]
  },
  {
   "cell_type": "code",
   "execution_count": null,
   "id": "9a865810-d244-44d0-9c8d-37d71632dab5",
   "metadata": {},
   "outputs": [],
   "source": [
    "#now re-run PCA or SVM with reduced dimensions!"
   ]
  }
 ],
 "metadata": {
  "kernelspec": {
   "display_name": "Python 3 (ipykernel)",
   "language": "python",
   "name": "python3"
  },
  "language_info": {
   "codemirror_mode": {
    "name": "ipython",
    "version": 3
   },
   "file_extension": ".py",
   "mimetype": "text/x-python",
   "name": "python",
   "nbconvert_exporter": "python",
   "pygments_lexer": "ipython3",
   "version": "3.9.18"
  }
 },
 "nbformat": 4,
 "nbformat_minor": 5
}
