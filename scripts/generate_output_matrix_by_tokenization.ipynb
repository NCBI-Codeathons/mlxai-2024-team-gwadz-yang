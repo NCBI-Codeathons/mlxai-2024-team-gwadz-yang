{
 "cells": [
  {
   "cell_type": "code",
   "execution_count": 7,
   "id": "49581f1c-cf42-4fdc-a4f5-df76609d86b7",
   "metadata": {},
   "outputs": [],
   "source": [
    "import sentencepiece as spm\n",
    "import os"
   ]
  },
  {
   "cell_type": "code",
   "execution_count": 8,
   "id": "a2ab584e-d5e9-49f2-851c-0bbf045a4d5d",
   "metadata": {},
   "outputs": [
    {
     "name": "stdout",
     "output_type": "stream",
     "text": [
      "File exists!\n"
     ]
    }
   ],
   "source": [
    "DATA_DIR = '../data'\n",
    "curated_names_unique_file = os.path.join(DATA_DIR, 'simplified_Curname_set.csv')\n",
    "\n",
    "if os.path.exists(curated_names_unique_file):\n",
    "    print(\"File exists!\")\n",
    "else:\n",
    "    print(\"File does not exist.\")\n",
    "\n"
   ]
  },
  {
   "cell_type": "code",
   "execution_count": 10,
   "id": "933675da-245e-415e-bbbe-2005a3cf2073",
   "metadata": {},
   "outputs": [
    {
     "name": "stdout",
     "output_type": "stream",
     "text": [
      "HAD family hydrolase ['▁HAD', '▁family', '▁hydrolase'] [1127, 5, 102]\n",
      "thrB family protein ['▁thr', 'B', '▁family', '▁protein'] [5717, 40, 5, 3]\n",
      "PLN02365 family protein ['▁PL', 'N', '02', '365', '▁family', '▁protein'] [2162, 53, 759, 4855, 5, 3]\n",
      "FixB family protein ['▁', 'Fix', 'B', '▁family', '▁protein'] [9, 2789, 40, 5, 3]\n",
      "Phage_GP20 domain-containing protein ['▁P', 'hage', '_', 'GP', '20', '▁domain', '-', 'containing', '▁protein'] [95, 4920, 0, 2077, 140, 7, 4, 6, 3]\n",
      "PRK08188 family protein ['▁PRK', '08', '188', '▁family', '▁protein'] [2423, 1770, 1454, 5, 3]\n",
      "PurU family protein ['▁P', 'ur', 'U', '▁family', '▁protein'] [95, 1599, 236, 5, 3]\n",
      "bifunctional 3,4-dihydroxy-2-butanone-4-phosphate synthase/GTP cyclohydrolase II ['▁bi', 'f', 'unction', 'al', '▁3,4-', 'dihydroxy', '-2-', 'butanone', '-4-', 'phosphate', '▁synthase', '/', 'GTP', '▁cyclohydrolase', '▁II'] [31, 26, 39, 17, 1125, 1056, 277, 2499, 262, 47, 20, 10, 957, 638, 113]\n",
      "MutS family DNA mismatch repair protein ['▁MutS', '▁family', '▁DNA', '▁mismatch', '▁re', 'pair', '▁protein'] [3978, 5, 43, 1501, 207, 304, 3]\n",
      "RAN domain-containing protein ['▁RA', 'N', '▁domain', '-', 'containing', '▁protein'] [2293, 53, 7, 4, 6, 3]\n"
     ]
    },
    {
     "name": "stderr",
     "output_type": "stream",
     "text": [
      "sentencepiece_trainer.cc(78) LOG(INFO) Starts training with : \n",
      "trainer_spec {\n",
      "  input: ../data/simplified_Curname_set.csv\n",
      "  input_format: \n",
      "  model_prefix: curated_names\n",
      "  model_type: UNIGRAM\n",
      "  vocab_size: 6000\n",
      "  self_test_sample_size: 0\n",
      "  character_coverage: 0.9995\n",
      "  input_sentence_size: 0\n",
      "  shuffle_input_sentence: 1\n",
      "  seed_sentencepiece_size: 1000000\n",
      "  shrinking_factor: 0.75\n",
      "  max_sentence_length: 4192\n",
      "  num_threads: 16\n",
      "  num_sub_iterations: 2\n",
      "  max_sentencepiece_length: 16\n",
      "  split_by_unicode_script: 1\n",
      "  split_by_number: 1\n",
      "  split_by_whitespace: 1\n",
      "  split_digits: 0\n",
      "  pretokenization_delimiter: \n",
      "  treat_whitespace_as_suffix: 0\n",
      "  allow_whitespace_only_pieces: 0\n",
      "  required_chars: \n",
      "  byte_fallback: 0\n",
      "  vocabulary_output_piece_score: 1\n",
      "  train_extremely_large_corpus: 0\n",
      "  seed_sentencepieces_file: \n",
      "  hard_vocab_limit: 1\n",
      "  use_all_vocab: 0\n",
      "  unk_id: 0\n",
      "  bos_id: 1\n",
      "  eos_id: 2\n",
      "  pad_id: -1\n",
      "  unk_piece: <unk>\n",
      "  bos_piece: <s>\n",
      "  eos_piece: </s>\n",
      "  pad_piece: <pad>\n",
      "  unk_surface:  ⁇ \n",
      "  enable_differential_privacy: 0\n",
      "  differential_privacy_noise_level: 0\n",
      "  differential_privacy_clipping_threshold: 0\n",
      "}\n",
      "normalizer_spec {\n",
      "  name: nmt_nfkc\n",
      "  add_dummy_prefix: 1\n",
      "  remove_extra_whitespaces: 1\n",
      "  escape_whitespaces: 1\n",
      "  normalization_rule_tsv: \n",
      "}\n",
      "denormalizer_spec {}\n",
      "trainer_interface.cc(353) LOG(INFO) SentenceIterator is not specified. Using MultiFileSentenceIterator.\n",
      "trainer_interface.cc(185) LOG(INFO) Loading corpus: ../data/simplified_Curname_set.csv\n",
      "trainer_interface.cc(409) LOG(INFO) Loaded all 11822 sentences\n",
      "trainer_interface.cc(425) LOG(INFO) Adding meta_piece: <unk>\n",
      "trainer_interface.cc(425) LOG(INFO) Adding meta_piece: <s>\n",
      "trainer_interface.cc(425) LOG(INFO) Adding meta_piece: </s>\n",
      "trainer_interface.cc(430) LOG(INFO) Normalizing sentences...\n",
      "trainer_interface.cc(539) LOG(INFO) all chars count=418828\n",
      "trainer_interface.cc(550) LOG(INFO) Done: 99.9573% characters are covered.\n",
      "trainer_interface.cc(560) LOG(INFO) Alphabet size=69\n",
      "trainer_interface.cc(561) LOG(INFO) Final character coverage=0.999573\n",
      "trainer_interface.cc(592) LOG(INFO) Done! preprocessed 11821 sentences.\n",
      "unigram_model_trainer.cc(265) LOG(INFO) Making suffix array...\n",
      "unigram_model_trainer.cc(269) LOG(INFO) Extracting frequent sub strings... node_num=208297\n",
      "unigram_model_trainer.cc(312) LOG(INFO) Initialized 17333 seed sentencepieces\n",
      "trainer_interface.cc(598) LOG(INFO) Tokenizing input sentences with whitespace: 11821\n",
      "trainer_interface.cc(609) LOG(INFO) Done! 11447\n",
      "unigram_model_trainer.cc(602) LOG(INFO) Using 11447 sentences for EM training\n",
      "unigram_model_trainer.cc(618) LOG(INFO) EM sub_iter=0 size=7373 obj=15.2951 num_tokens=34442 num_tokens/piece=4.67137\n",
      "unigram_model_trainer.cc(618) LOG(INFO) EM sub_iter=1 size=6563 obj=11.8006 num_tokens=34751 num_tokens/piece=5.29499\n",
      "trainer_interface.cc(687) LOG(INFO) Saving model: curated_names.model\n",
      "trainer_interface.cc(699) LOG(INFO) Saving vocabs: curated_names.vocab\n"
     ]
    }
   ],
   "source": [
    "# --- Train the SentencePiece Model ---\n",
    "spm.SentencePieceTrainer.train(\n",
    "    input=curated_names_unique_file,\n",
    "    model_prefix='curated_names',\n",
    "    vocab_size=6000,\n",
    "    character_coverage=0.9995\n",
    ")\n",
    "\n",
    "# --- Load the Trained Model ---\n",
    "sp = spm.SentencePieceProcessor(model_file='curated_names.model')\n",
    "\n",
    "# --- Tokenize a Sample Name ---\n",
    "vocab_size = sp.get_piece_size()\n",
    "\n",
    "# Get the pieces and their corresponding IDs\n",
    "vocab = {sp.id_to_piece(i): i for i in range(vocab_size)}\n",
    "\n",
    "# Function to convert a protein name into a target vector\n",
    "def name_to_target_vector(name):\n",
    "  subwords = sp.encode(name, out_type=str)\n",
    "  target_vector = [vocab.get(token, vocab['<unk>']) for token in subwords]\n",
    "  return target_vector\n",
    "\n",
    "# --- Tokenize a Sample Name ---\n",
    "protein_names = [\n",
    "    'HAD family hydrolase',\n",
    "    'thrB family protein',\n",
    "    'PLN02365 family protein',\n",
    "    'FixB family protein',\n",
    "    'Phage_GP20 domain-containing protein',\n",
    "    'PRK08188 family protein',\n",
    "    'PurU family protein',\n",
    "    'bifunctional 3,4-dihydroxy-2-butanone-4-phosphate synthase/GTP cyclohydrolase II',\n",
    "    'MutS family DNA mismatch repair protein',\n",
    "    'RAN domain-containing protein'\n",
    "]\n",
    "\n",
    "for protein_name in protein_names:\n",
    "    subwords = sp.encode(protein_name, out_type=str)\n",
    "    vec = name_to_target_vector(protein_name)\n",
    "    print(protein_name, subwords, vec)"
   ]
  },
  {
   "cell_type": "code",
   "execution_count": null,
   "id": "192339fd-71b5-42d9-9b52-ee0c14606535",
   "metadata": {},
   "outputs": [],
   "source": []
  }
 ],
 "metadata": {
  "kernelspec": {
   "display_name": "Python 3 (ipykernel)",
   "language": "python",
   "name": "python3"
  },
  "language_info": {
   "codemirror_mode": {
    "name": "ipython",
    "version": 3
   },
   "file_extension": ".py",
   "mimetype": "text/x-python",
   "name": "python",
   "nbconvert_exporter": "python",
   "pygments_lexer": "ipython3",
   "version": "3.10.12"
  }
 },
 "nbformat": 4,
 "nbformat_minor": 5
}
