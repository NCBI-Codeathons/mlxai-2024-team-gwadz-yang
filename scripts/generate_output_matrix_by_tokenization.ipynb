{
 "cells": [
  {
   "cell_type": "code",
   "execution_count": 1,
   "id": "49581f1c-cf42-4fdc-a4f5-df76609d86b7",
   "metadata": {},
   "outputs": [],
   "source": [
    "import sentencepiece as spm\n",
    "import os"
   ]
  },
  {
   "cell_type": "code",
   "execution_count": 2,
   "id": "a2ab584e-d5e9-49f2-851c-0bbf045a4d5d",
   "metadata": {},
   "outputs": [
    {
     "name": "stdout",
     "output_type": "stream",
     "text": [
      "File exists!\n"
     ]
    }
   ],
   "source": [
    "DATA_DIR = '../data'\n",
    "all_titles_and_curnames_file = os.path.join(DATA_DIR, 'merged_titles_and_curnames')\n",
    "\n",
    "if os.path.exists(all_titles_and_curnames_file):\n",
    "    print(\"File exists!\")\n",
    "else:\n",
    "    print(\"File does not exist.\")\n",
    "\n"
   ]
  },
  {
   "cell_type": "code",
   "execution_count": 3,
   "id": "933675da-245e-415e-bbbe-2005a3cf2073",
   "metadata": {},
   "outputs": [
    {
     "name": "stderr",
     "output_type": "stream",
     "text": [
      "sentencepiece_trainer.cc(78) LOG(INFO) Starts training with : \n",
      "trainer_spec {\n",
      "  input: ../data/merged_titles_and_curnames\n",
      "  input_format: \n",
      "  model_prefix: titles_and_curnames\n",
      "  model_type: UNIGRAM\n",
      "  vocab_size: 6000\n",
      "  self_test_sample_size: 0\n",
      "  character_coverage: 0.9995\n",
      "  input_sentence_size: 0\n",
      "  shuffle_input_sentence: 1\n",
      "  seed_sentencepiece_size: 1000000\n",
      "  shrinking_factor: 0.75\n",
      "  max_sentence_length: 4192\n",
      "  num_threads: 16\n",
      "  num_sub_iterations: 2\n",
      "  max_sentencepiece_length: 16\n",
      "  split_by_unicode_script: 1\n",
      "  split_by_number: 1\n",
      "  split_by_whitespace: 1\n",
      "  split_digits: 0\n",
      "  pretokenization_delimiter: \n",
      "  treat_whitespace_as_suffix: 0\n",
      "  allow_whitespace_only_pieces: 0\n",
      "  required_chars: \n",
      "  byte_fallback: 0\n",
      "  vocabulary_output_piece_score: 1\n",
      "  train_extremely_large_corpus: 0\n",
      "  seed_sentencepieces_file: \n",
      "  hard_vocab_limit: 1\n",
      "  use_all_vocab: 0\n",
      "  unk_id: 0\n",
      "  bos_id: 1\n",
      "  eos_id: 2\n",
      "  pad_id: -1\n",
      "  unk_piece: <unk>\n",
      "  bos_piece: <s>\n",
      "  eos_piece: </s>\n",
      "  pad_piece: <pad>\n",
      "  unk_surface:  ⁇ \n",
      "  enable_differential_privacy: 0\n",
      "  differential_privacy_noise_level: 0\n",
      "  differential_privacy_clipping_threshold: 0\n",
      "}\n",
      "normalizer_spec {\n",
      "  name: nmt_nfkc\n",
      "  add_dummy_prefix: 1\n",
      "  remove_extra_whitespaces: 1\n",
      "  escape_whitespaces: 1\n",
      "  normalization_rule_tsv: \n",
      "}\n",
      "denormalizer_spec {}\n",
      "trainer_interface.cc(353) LOG(INFO) SentenceIterator is not specified. Using MultiFileSentenceIterator.\n",
      "trainer_interface.cc(185) LOG(INFO) Loading corpus: ../data/merged_titles_and_curnames\n",
      "trainer_interface.cc(409) LOG(INFO) Loaded all 166935 sentences\n",
      "trainer_interface.cc(425) LOG(INFO) Adding meta_piece: <unk>\n",
      "trainer_interface.cc(425) LOG(INFO) Adding meta_piece: <s>\n",
      "trainer_interface.cc(425) LOG(INFO) Adding meta_piece: </s>\n",
      "trainer_interface.cc(430) LOG(INFO) Normalizing sentences...\n",
      "trainer_interface.cc(539) LOG(INFO) all chars count=14715341\n",
      "trainer_interface.cc(550) LOG(INFO) Done: 99.9514% characters are covered.\n",
      "trainer_interface.cc(560) LOG(INFO) Alphabet size=74\n",
      "trainer_interface.cc(561) LOG(INFO) Final character coverage=0.999514\n",
      "trainer_interface.cc(592) LOG(INFO) Done! preprocessed 166934 sentences.\n",
      "unigram_model_trainer.cc(265) LOG(INFO) Making suffix array...\n",
      "unigram_model_trainer.cc(269) LOG(INFO) Extracting frequent sub strings... node_num=9566283\n",
      "unigram_model_trainer.cc(312) LOG(INFO) Initialized 62036 seed sentencepieces\n",
      "trainer_interface.cc(598) LOG(INFO) Tokenizing input sentences with whitespace: 166934\n",
      "trainer_interface.cc(609) LOG(INFO) Done! 53491\n",
      "unigram_model_trainer.cc(602) LOG(INFO) Using 53491 sentences for EM training\n",
      "unigram_model_trainer.cc(618) LOG(INFO) EM sub_iter=0 size=33459 obj=14.7174 num_tokens=156789 num_tokens/piece=4.686\n",
      "unigram_model_trainer.cc(618) LOG(INFO) EM sub_iter=1 size=28471 obj=11.1247 num_tokens=158251 num_tokens/piece=5.55832\n",
      "unigram_model_trainer.cc(618) LOG(INFO) EM sub_iter=0 size=21352 obj=11.0957 num_tokens=165446 num_tokens/piece=7.7485\n",
      "unigram_model_trainer.cc(618) LOG(INFO) EM sub_iter=1 size=21343 obj=11.0662 num_tokens=165864 "
     ]
    },
    {
     "name": "stdout",
     "output_type": "stream",
     "text": [
      "HAD family hydrolase ['▁HAD', '▁family', '▁hydrolase'] [1079, 21, 167]\n",
      "thrB family protein ['▁', 'th', 'r', 'B', '▁family', '▁protein'] [3, 321, 174, 43, 21, 14]\n",
      "PLN02365 family protein ['▁PLN', '0', '23', '65', '▁family', '▁protein'] [261, 250, 344, 942, 21, 14]\n",
      "FixB family protein ['▁F', 'ix', 'B', '▁family', '▁protein'] [78, 2077, 43, 21, 14]\n",
      "Phage_GP20 domain-containing protein ['▁Phage', '_', 'GP', '20', '▁domain', '-', 'containing', '▁protein'] [515, 9, 2152, 326, 6, 5, 58, 14]\n",
      "PRK08188 family protein ['▁PRK', '08', '188', '▁family', '▁protein'] [38, 1113, 4252, 21, 14]\n",
      "PurU family protein ['▁Pur', 'U', '▁family', '▁protein'] [2001, 351, 21, 14]\n",
      "bifunctional 3,4-dihydroxy-2-butanone-4-phosphate synthase/GTP cyclohydrolase II ['▁b', 'ifunctional', '▁3,', '4-', 'dihydroxy', '-2-', 'but', 'an', 'one', '-4-', 'phosphate', '▁synthase', '/', 'GTP', '▁', 'cyclo', 'hydrolase', '▁II'] [314, 809, 1019, 464, 4483, 1773, 2950, 442, 1500, 1634, 396, 123, 13, 3569, 3, 1892, 431, 144]\n",
      "MutS family DNA mismatch repair protein ['▁MutS', '▁family', '▁DNA', '▁mismatch', '▁repair', '▁protein'] [2335, 21, 50, 2542, 227, 14]\n",
      "RAN domain-containing protein ['▁R', 'A', 'N', '▁domain', '-', 'containing', '▁protein'] [116, 15, 59, 6, 5, 58, 14]\n"
     ]
    },
    {
     "name": "stderr",
     "output_type": "stream",
     "text": [
      "num_tokens/piece=7.77135\n",
      "unigram_model_trainer.cc(618) LOG(INFO) EM sub_iter=0 size=16006 obj=11.1075 num_tokens=176350 num_tokens/piece=11.0177\n",
      "unigram_model_trainer.cc(618) LOG(INFO) EM sub_iter=1 size=16002 obj=11.0936 num_tokens=176509 num_tokens/piece=11.0304\n",
      "unigram_model_trainer.cc(618) LOG(INFO) EM sub_iter=0 size=12001 obj=11.1699 num_tokens=187880 num_tokens/piece=15.6554\n",
      "unigram_model_trainer.cc(618) LOG(INFO) EM sub_iter=1 size=12001 obj=11.1492 num_tokens=187916 num_tokens/piece=15.6584\n",
      "unigram_model_trainer.cc(618) LOG(INFO) EM sub_iter=0 size=9000 obj=11.2721 num_tokens=199787 num_tokens/piece=22.1986\n",
      "unigram_model_trainer.cc(618) LOG(INFO) EM sub_iter=1 size=9000 obj=11.2426 num_tokens=199767 num_tokens/piece=22.1963\n",
      "unigram_model_trainer.cc(618) LOG(INFO) EM sub_iter=0 size=6750 obj=11.4129 num_tokens=211892 num_tokens/piece=31.3914\n",
      "unigram_model_trainer.cc(618) LOG(INFO) EM sub_iter=1 size=6750 obj=11.376 num_tokens=211932 num_tokens/piece=31.3973\n",
      "unigram_model_trainer.cc(618) LOG(INFO) EM sub_iter=0 size=6600 obj=11.3878 num_tokens=213039 num_tokens/piece=32.2786\n",
      "unigram_model_trainer.cc(618) LOG(INFO) EM sub_iter=1 size=6600 obj=11.3849 num_tokens=213043 num_tokens/piece=32.2792\n",
      "trainer_interface.cc(687) LOG(INFO) Saving model: titles_and_curnames.model\n",
      "trainer_interface.cc(699) LOG(INFO) Saving vocabs: titles_and_curnames.vocab\n"
     ]
    }
   ],
   "source": [
    "# --- Train the SentencePiece Model ---\n",
    "spm.SentencePieceTrainer.train(\n",
    "    input=all_titles_and_curnames_file,\n",
    "    model_prefix='titles_and_curnames',\n",
    "    vocab_size=6000,\n",
    "    character_coverage=0.9995\n",
    ")\n",
    "\n",
    "# --- Load the Trained Model ---\n",
    "sp = spm.SentencePieceProcessor(model_file='titles_and_curnames.model')\n",
    "\n",
    "# --- Tokenize a Sample Name ---\n",
    "vocab_size = sp.get_piece_size()\n",
    "\n",
    "# Get the pieces and their corresponding IDs\n",
    "vocab = {sp.id_to_piece(i): i for i in range(vocab_size)}\n",
    "\n",
    "# Function to convert a protein name into a target vector\n",
    "def name_to_target_vector(name):\n",
    "  subwords = sp.encode(name, out_type=str)\n",
    "  target_vector = [vocab.get(token, vocab['<unk>']) for token in subwords]\n",
    "  return target_vector\n",
    "\n",
    "# --- Tokenize a Sample Name ---\n",
    "protein_names = [\n",
    "    'HAD family hydrolase',\n",
    "    'thrB family protein',\n",
    "    'PLN02365 family protein',\n",
    "    'FixB family protein',\n",
    "    'Phage_GP20 domain-containing protein',\n",
    "    'PRK08188 family protein',\n",
    "    'PurU family protein',\n",
    "    'bifunctional 3,4-dihydroxy-2-butanone-4-phosphate synthase/GTP cyclohydrolase II',\n",
    "    'MutS family DNA mismatch repair protein',\n",
    "    'RAN domain-containing protein'\n",
    "]\n",
    "\n",
    "for protein_name in protein_names:\n",
    "    subwords = sp.encode(protein_name, out_type=str)\n",
    "    vec = name_to_target_vector(protein_name)\n",
    "    print(protein_name, subwords, vec)"
   ]
  },
  {
   "cell_type": "code",
   "execution_count": 4,
   "id": "192339fd-71b5-42d9-9b52-ee0c14606535",
   "metadata": {},
   "outputs": [
    {
     "name": "stdout",
     "output_type": "stream",
     "text": [
      "max length 46\n"
     ]
    }
   ],
   "source": [
    "# the longest vector found is 46. therefore we may use a vector of fixed lenfth of 60\n",
    "\n",
    "\n",
    "with open(os.path.join(DATA_DIR, 'simplified_Curname_set.csv'), 'r') as f:\n",
    "    max_len = 0\n",
    "    for line in f:\n",
    "        vec = name_to_target_vector(line.strip())\n",
    "        if max_len < len(vec):\n",
    "            max_len = len(vec)\n",
    "        \n",
    "\n",
    "print('max length', max_len)\n",
    "\n",
    "\n",
    "\n"
   ]
  },
  {
   "cell_type": "code",
   "execution_count": 5,
   "id": "fc03cc83-53a2-434a-b12f-7ba5e2364001",
   "metadata": {},
   "outputs": [
    {
     "data": {
      "text/html": [
       "<div>\n",
       "<style scoped>\n",
       "    .dataframe tbody tr th:only-of-type {\n",
       "        vertical-align: middle;\n",
       "    }\n",
       "\n",
       "    .dataframe tbody tr th {\n",
       "        vertical-align: top;\n",
       "    }\n",
       "\n",
       "    .dataframe thead th {\n",
       "        text-align: right;\n",
       "    }\n",
       "</style>\n",
       "<table border=\"1\" class=\"dataframe\">\n",
       "  <thead>\n",
       "    <tr style=\"text-align: right;\">\n",
       "      <th></th>\n",
       "      <th>ArchId</th>\n",
       "      <th>CurName</th>\n",
       "    </tr>\n",
       "  </thead>\n",
       "  <tbody>\n",
       "    <tr>\n",
       "      <th>0</th>\n",
       "      <td>3</td>\n",
       "      <td>FtsZ/tubulin family protein</td>\n",
       "    </tr>\n",
       "    <tr>\n",
       "      <th>1</th>\n",
       "      <td>16</td>\n",
       "      <td>TCP-1/cpn60 chaperonin family protein</td>\n",
       "    </tr>\n",
       "    <tr>\n",
       "      <th>2</th>\n",
       "      <td>2</td>\n",
       "      <td>envelope glycoprotein 120</td>\n",
       "    </tr>\n",
       "    <tr>\n",
       "      <th>3</th>\n",
       "      <td>30</td>\n",
       "      <td>ABC transporter permease</td>\n",
       "    </tr>\n",
       "    <tr>\n",
       "      <th>4</th>\n",
       "      <td>21</td>\n",
       "      <td>homeobox domain-containing protein</td>\n",
       "    </tr>\n",
       "  </tbody>\n",
       "</table>\n",
       "</div>"
      ],
      "text/plain": [
       "   ArchId                                CurName\n",
       "0       3            FtsZ/tubulin family protein\n",
       "1      16  TCP-1/cpn60 chaperonin family protein\n",
       "2       2              envelope glycoprotein 120\n",
       "3      30               ABC transporter permease\n",
       "4      21     homeobox domain-containing protein"
      ]
     },
     "execution_count": 5,
     "metadata": {},
     "output_type": "execute_result"
    }
   ],
   "source": [
    "# save the output_arr into a pickle file\n",
    "\n",
    "import pandas as pd\n",
    "import pickle\n",
    "\n",
    "csv_file = os.path.join(DATA_DIR, 'SPARCLE_IDS_curated.csv')\n",
    "df = pd.read_csv(csv_file, usecols=['ArchId', 'CurName'])\n",
    "\n",
    "df.head()"
   ]
  },
  {
   "cell_type": "code",
   "execution_count": 6,
   "id": "83238d8c-2b75-4077-bf61-222cf46d616d",
   "metadata": {},
   "outputs": [],
   "source": [
    "archid_encoded_curname = {}\n",
    "\n",
    "for index, row in df.iterrows():\n",
    "    # archid_encoded_curname[row['ArchId']] = name_to_target_vector(row['CurName'])\n",
    "    vec = name_to_target_vector(row['CurName'])\n",
    "    archid_encoded_curname[str(row['ArchId'])] = vec\n",
    "\n",
    "\n",
    "with open(os.path.join(DATA_DIR, 'archid_encoded_curname_dict.pickle'), 'wb') as f:\n",
    "    pickle.dump(archid_encoded_curname, f)"
   ]
  },
  {
   "cell_type": "code",
   "execution_count": 7,
   "id": "a082464a-6845-40da-b374-3c046cf72c06",
   "metadata": {},
   "outputs": [
    {
     "name": "stdout",
     "output_type": "stream",
     "text": [
      "TCP-1/cpn60 chaperonin family protein [57, 1013, 5, 987, 68, 79, 169, 447, 3696, 21, 14]\n",
      "homeobox domain-containing protein [3893, 6, 5, 58, 14]\n"
     ]
    }
   ],
   "source": [
    "print(sp.decode(archid_encoded_curname['16']), archid_encoded_curname['16'])\n",
    "print(sp.decode(archid_encoded_curname['21']), archid_encoded_curname['21'])"
   ]
  },
  {
   "cell_type": "code",
   "execution_count": 8,
   "id": "d614e7d5-205c-48b7-a0a7-4aaaeabd80f6",
   "metadata": {},
   "outputs": [],
   "source": [
    "\n",
    "# Below is the code extract the TitleStrings column from SPARCLE_IDS_all_current.csv\n",
    "# These title strings are combined with curated names to construct a whole set of text used\n",
    "\n",
    "# title_strings = pd.read_csv(os.path.join(DATA_DIR, 'SPARCLE_IDS_all_current.csv'), usecols=['TitleStrings'])\n",
    "# title_strings.head()\n",
    "# title_strings.to_csv(os.path.join(DATA_DIR, 'Title_Strings.csv'), encoding='utf-8', index=False)"
   ]
  },
  {
   "cell_type": "code",
   "execution_count": null,
   "id": "dec6d21b-55cb-4e99-83ab-5aa154b8d027",
   "metadata": {},
   "outputs": [],
   "source": []
  }
 ],
 "metadata": {
  "kernelspec": {
   "display_name": "Python 3 (ipykernel)",
   "language": "python",
   "name": "python3"
  },
  "language_info": {
   "codemirror_mode": {
    "name": "ipython",
    "version": 3
   },
   "file_extension": ".py",
   "mimetype": "text/x-python",
   "name": "python",
   "nbconvert_exporter": "python",
   "pygments_lexer": "ipython3",
   "version": "3.10.12"
  }
 },
 "nbformat": 4,
 "nbformat_minor": 5
}
