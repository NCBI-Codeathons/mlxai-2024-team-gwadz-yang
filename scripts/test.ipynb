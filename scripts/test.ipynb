{
 "cells": [
  {
   "cell_type": "code",
   "execution_count": 2,
   "id": "6a43376b-6aa2-4314-9eaa-e9c71198df08",
   "metadata": {
    "ExecuteTime": {
     "end_time": "2024-02-26T22:17:31.736245Z",
     "start_time": "2024-02-26T22:17:31.726839Z"
    }
   },
   "outputs": [],
   "source": [
    "import os\n",
    "\n",
    "DATA_DIR=\"../data\""
   ]
  },
  {
   "cell_type": "code",
   "execution_count": 4,
   "id": "d4a5ceccf6cbc338",
   "metadata": {
    "collapsed": false,
    "jupyter": {
     "outputs_hidden": false
    }
   },
   "outputs": [
    {
     "name": "stdout",
     "output_type": "stream",
     "text": [
      "SPARCLE_IDS_curated.csv\n",
      "curated_names_unique\n",
      "CD_models_curated\n",
      "super_families_curated\n"
     ]
    }
   ],
   "source": [
    "# Get the list of files in the directory\n",
    "files = os.listdir(DATA_DIR)\n",
    "\n",
    "# Print the list of files\n",
    "for file in files:\n",
    "    print(file)"
   ]
  },
  {
   "cell_type": "code",
   "execution_count": null,
   "id": "72b7e1aa-5bd9-4a9f-a074-a05dcef3ae0b",
   "metadata": {},
   "outputs": [],
   "source": []
  }
 ],
 "metadata": {
  "kernelspec": {
   "display_name": "Python 3 (ipykernel)",
   "language": "python",
   "name": "python3"
  },
  "language_info": {
   "codemirror_mode": {
    "name": "ipython",
    "version": 3
   },
   "file_extension": ".py",
   "mimetype": "text/x-python",
   "name": "python",
   "nbconvert_exporter": "python",
   "pygments_lexer": "ipython3",
   "version": "3.10.12"
  }
 },
 "nbformat": 4,
 "nbformat_minor": 5
}
