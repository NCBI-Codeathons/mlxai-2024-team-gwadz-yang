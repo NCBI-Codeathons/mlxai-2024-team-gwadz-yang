{
 "cells": [
  {
   "cell_type": "markdown",
   "id": "34cadf84-49f9-4e2d-956e-546a81c134d2",
   "metadata": {},
   "source": [
    "# Initial preprocessing for curated and uncurated protein structures"
   ]
  },
  {
   "cell_type": "markdown",
   "id": "561969bb-0a6c-448f-ada6-89fa6354aa55",
   "metadata": {},
   "source": [
    "### Load libraries and files"
   ]
  },
  {
   "cell_type": "code",
   "execution_count": 1,
   "id": "e46fbe6f-9bcd-46dc-816a-6266c54c1b87",
   "metadata": {},
   "outputs": [],
   "source": [
    "import os\n",
    "import pandas as pd\n",
    "import math \n",
    "from collections import defaultdict \n",
    "import matplotlib.pyplot as plt\n",
    "\n",
    "DATA_DIR=\"../data\""
   ]
  },
  {
   "cell_type": "code",
   "execution_count": 2,
   "id": "c98403fc-c4e3-4981-b5e0-0de4b82ab219",
   "metadata": {},
   "outputs": [],
   "source": [
    "# Access &read the file - Currated\n",
    "file_path = os.path.join(DATA_DIR, \"SPARCLE_IDS_curated_simplified.csv\")\n",
    "df_cur = pd.read_csv(file_path)\n",
    "\n",
    "#test succ. loading\n",
    "#df_cur.head()"
   ]
  },
  {
   "cell_type": "code",
   "execution_count": 3,
   "id": "8341c761-b76a-48f9-9f18-53e8a6c1da58",
   "metadata": {},
   "outputs": [],
   "source": [
    "# Access &read the file - Currated\n",
    "file_path = os.path.join(DATA_DIR, \"SPARCLE_IDS_UNcurated_TITLES.csv.gz\")\n",
    "df_UNcur = pd.read_csv(file_path, compression='gzip')\n",
    "\n",
    "#test succ. loading\n",
    "#df_uncur.head()"
   ]
  },
  {
   "cell_type": "markdown",
   "id": "4d924260-1e96-4981-a456-3039bd1df577",
   "metadata": {},
   "source": [
    "## Keep essential columns "
   ]
  },
  {
   "cell_type": "code",
   "execution_count": 4,
   "id": "76683577-b32a-4007-932d-6d4593d4fcb6",
   "metadata": {},
   "outputs": [],
   "source": [
    "df_cur = df_cur[['ArchId', 'CurName_simplified', 'superfamilyarch', 'SpecificArch', 'TitleStrings']]\n",
    "df_UNcur = df_UNcur[['ArchId', 'CurName', 'superfamilyarch', 'SpecificArch', 'TitleStrings']]"
   ]
  },
  {
   "cell_type": "markdown",
   "id": "791c833b-cd5d-44be-96a6-b2b4763bccf3",
   "metadata": {},
   "source": [
    "## Further preprocessing"
   ]
  },
  {
   "cell_type": "markdown",
   "id": "e93ccdaa-ac54-4cfd-a2aa-db9a0984482e",
   "metadata": {},
   "source": [
    "### Lowercase"
   ]
  },
  {
   "cell_type": "code",
   "execution_count": 5,
   "id": "30175c02-8b3a-4657-8da3-15605cad5a3e",
   "metadata": {},
   "outputs": [],
   "source": [
    "df_cur.loc[:, ['superfamilyarch', 'SpecificArch', 'TitleStrings']] = df_cur.loc[:, ['CurName_simplified', 'superfamilyarch', 'SpecificArch', 'TitleStrings']].apply(lambda x: x.str.lower())\n",
    "df_UNcur.loc[:, ['superfamilyarch', 'SpecificArch', 'TitleStrings']] = df_UNcur.loc[:, ['CurName', 'superfamilyarch', 'SpecificArch', 'TitleStrings']].apply(lambda x: x.str.lower())"
   ]
  },
  {
   "cell_type": "markdown",
   "id": "55d81665-6355-4665-a62d-9a1d99202e0e",
   "metadata": {},
   "source": [
    "### Filter specific words in TitleStrings"
   ]
  },
  {
   "cell_type": "markdown",
   "id": "e04df9b4-f7f0-48fc-97e0-4f29e7f93f60",
   "metadata": {},
   "source": [
    "Integration of data obtained from file \"CM_XXX\""
   ]
  },
  {
   "cell_type": "code",
   "execution_count": 6,
   "id": "bc80e6df-cc22-427e-9f6a-aa1550165d96",
   "metadata": {},
   "outputs": [],
   "source": [
    "words_to_remove = ['domain', 'domains', ' of ', ' and ', ' the ', ' a ', 'found', 'type', 'protein', 'proteins', 'N/A', 'n/a']"
   ]
  },
  {
   "cell_type": "code",
   "execution_count": 7,
   "id": "c70b4c1a-0dbe-4163-871a-f535642725f5",
   "metadata": {},
   "outputs": [],
   "source": [
    "# Creating a regex pattern to match any word in the list of words to remove\n",
    "pattern = '|'.join(r\"\\b{}\\b\".format(word) for word in words_to_remove)\n",
    "\n",
    "# Replacing the words in the 'Text' column with an empty string\n",
    "df_cur.loc['TitleStrings'] = df_cur['TitleStrings'].str.replace(pattern, ' ', regex=True)\n",
    "df_cur.loc['TitleStrings'] = df_cur['TitleStrings'].str.replace('  ', ' ', regex=True).str.replace('  ', ' ', regex=True)\n",
    "df_cur.loc['TitleStrings'] = df_cur['TitleStrings'].str.replace(' , ', ', ', regex=True)\n",
    "\n",
    "# Replacing the words in the 'Text' column with an empty string\n",
    "df_UNcur.loc['TitleStrings'] = df_UNcur['TitleStrings'].str.replace(pattern, ' ', regex=True)\n",
    "df_UNcur.loc['TitleStrings'] = df_UNcur['TitleStrings'].str.replace('  ', ' ', regex=True).str.replace('  ', ' ', regex=True)\n",
    "df_UNcur.loc['TitleStrings'] = df_UNcur['TitleStrings'].str.replace(' , ', ', ', regex=True)"
   ]
  },
  {
   "cell_type": "code",
   "execution_count": 8,
   "id": "89d1c049-0fde-48d2-8fb0-c2f463b8a3cb",
   "metadata": {},
   "outputs": [],
   "source": [
    "df_cur.to_csv('../data/SPARCLE_IDS_curated_simplified_modTitleStrings.csv', index=False)\n",
    "df_UNcur.to_csv('../data/SPARCLE_IDS_UNcurated_TITLES_modTitleStrings.csv', index=False)"
   ]
  },
  {
   "cell_type": "markdown",
   "id": "2aa9d127-f690-4188-af56-ec2f4f8a2f47",
   "metadata": {},
   "source": [
    "#### Test for overrepresented words in TitleStrings"
   ]
  },
  {
   "cell_type": "code",
   "execution_count": 9,
   "id": "87182f32-b330-45e5-97b5-f10365ab3547",
   "metadata": {},
   "outputs": [],
   "source": [
    "import collections"
   ]
  },
  {
   "cell_type": "code",
   "execution_count": 40,
   "id": "8553c51d-86d7-4fa9-b084-996ad61baab1",
   "metadata": {},
   "outputs": [
    {
     "data": {
      "text/plain": [
       "[('in', 18529),\n",
       " ('family', 16551),\n",
       " ('repeat', 13178),\n",
       " ('function', 12560),\n",
       " ('similar', 12249),\n",
       " ('the', 10390),\n",
       " ('transduction', 9456),\n",
       " ('mechanisms]', 8230),\n",
       " ('unknown', 8075),\n",
       " ('binding', 7314),\n",
       " ('1', 6707),\n",
       " ('c-terminal', 6687),\n",
       " ('[signal', 6609),\n",
       " ('and', 6558),\n",
       " ('homology', 6418),\n",
       " ('2', 5860),\n",
       " ('subunit', 5740),\n",
       " ('motif', 5740),\n",
       " ('transport', 5555),\n",
       " ('kinase', 5522)]"
      ]
     },
     "execution_count": 40,
     "metadata": {},
     "output_type": "execute_result"
    }
   ],
   "source": [
    "strings = list(set(df_cur.loc[~df_cur['TitleStrings'].isna()]['TitleStrings']))\n",
    "all_strings = []\n",
    "for string in strings:\n",
    "    # string = strings[0]\n",
    "    string = string.replace(\"| \",\"\")\n",
    "    string = string.replace(\", \",\"\")\n",
    "    words = string.split()\n",
    "    all_strings += words\n",
    "\n",
    "\n",
    "counter = collections.Counter(all_strings)\n",
    "counter.most_common(20)"
   ]
  },
  {
   "cell_type": "markdown",
   "id": "9d4bb8d7-1805-4212-ae95-5bbdbe35b79b",
   "metadata": {
    "jp-MarkdownHeadingCollapsed": true
   },
   "source": [
    "### Extract Unique SpecificArch to Dictionary"
   ]
  },
  {
   "cell_type": "code",
   "execution_count": 14,
   "id": "0c9ad6d6-372c-43c2-a732-8fee2981673f",
   "metadata": {},
   "outputs": [],
   "source": [
    "# Filter rows where SpecArchs has exactly one string & Find unique SpecArchs values\n",
    "df_filtered = df_cur[df_cur['SpecificArch'].map(lambda x: len(str(x).split()) == 1)]\n",
    "unique_specarchs = df_filtered['SpecificArch'].drop_duplicates(keep=False)"
   ]
  },
  {
   "cell_type": "code",
   "execution_count": 11,
   "id": "8dd6e255-849a-4078-bc5c-97b2c1a24a00",
   "metadata": {},
   "outputs": [],
   "source": [
    "# Create dictionary with SpecArchs as keys and [superfam, CurLabel] as values\n",
    "result_dict = {}\n",
    "for specarch in unique_specarchs:\n",
    "    row = df_filtered[df_filtered['SpecificArch'] == specarch]\n",
    "    result_dict[specarch] = [row['superfamilyarch'].iloc[0], row['CurName_simplified'].iloc[0]]"
   ]
  },
  {
   "cell_type": "code",
   "execution_count": 12,
   "id": "58fb7856-6715-4488-953a-c6c739762c54",
   "metadata": {},
   "outputs": [
    {
     "data": {
      "text/plain": [
       "17417"
      ]
     },
     "execution_count": 12,
     "metadata": {},
     "output_type": "execute_result"
    }
   ],
   "source": [
    "len(result_dict.keys())"
   ]
  },
  {
   "cell_type": "code",
   "execution_count": 13,
   "id": "445bccd4-77c9-436c-999c-a2e6919a1306",
   "metadata": {},
   "outputs": [],
   "source": [
    "import json\n",
    "\n",
    "# Assuming result_dict is your dictionary\n",
    "with open('../data/uniqueSpecificArch_dict.json', 'w') as json_file:\n",
    "    json.dump(result_dict, json_file)"
   ]
  },
  {
   "cell_type": "code",
   "execution_count": 16,
   "id": "f1ead22d-4add-45cb-b4cd-a1dbf6b02e08",
   "metadata": {},
   "outputs": [],
   "source": [
    "with open('../data/uniqueSpecificArch_dict.json', 'r') as json_file:\n",
    "    result_dict = json.load(json_file)"
   ]
  },
  {
   "cell_type": "markdown",
   "id": "3628512e-41f9-474c-b314-d9b7fc06821e",
   "metadata": {},
   "source": [
    "### Removal of Unique SpecificArch"
   ]
  },
  {
   "cell_type": "code",
   "execution_count": 19,
   "id": "0d6dfca4-012e-4f68-a665-f7965ce63717",
   "metadata": {},
   "outputs": [
    {
     "data": {
      "text/plain": [
       "(42767, 5)"
      ]
     },
     "execution_count": 19,
     "metadata": {},
     "output_type": "execute_result"
    }
   ],
   "source": [
    "df_cur.shape"
   ]
  },
  {
   "cell_type": "code",
   "execution_count": 20,
   "id": "a50b7e08-d39e-4c5c-aa54-25c9288d297c",
   "metadata": {},
   "outputs": [],
   "source": [
    "keys_to_remove = result_dict.keys()\n",
    "# Remove rows from df_cur where SpecArchs is a key in result_dict\n",
    "df_cur2 = df_cur[~df_cur['SpecificArch'].isin(keys_to_remove)]"
   ]
  },
  {
   "cell_type": "code",
   "execution_count": 21,
   "id": "a03bb192-aa8d-4889-9f84-2e1d4830c8b7",
   "metadata": {},
   "outputs": [
    {
     "data": {
      "text/plain": [
       "(25350, 5)"
      ]
     },
     "execution_count": 21,
     "metadata": {},
     "output_type": "execute_result"
    }
   ],
   "source": [
    "df_cur2.shape"
   ]
  },
  {
   "cell_type": "markdown",
   "id": "2106534e-8355-4487-ab88-d80be97d6d0f",
   "metadata": {},
   "source": [
    "## Prediction of Uncurated Structures"
   ]
  },
  {
   "cell_type": "code",
   "execution_count": 27,
   "id": "aceb7cb0-e19a-497d-af47-06b4956870ac",
   "metadata": {},
   "outputs": [],
   "source": [
    "df_filtered = df_UNcur[df_UNcur['SpecificArch'].map(lambda x: len(str(x).split()) == 1)]\n",
    "unique_specarchs_UNcur = df_filtered['SpecificArch'].drop_duplicates(keep=False)"
   ]
  },
  {
   "cell_type": "code",
   "execution_count": 26,
   "id": "6d9814bf-b705-4f01-84f5-b48fa2a3a90f",
   "metadata": {},
   "outputs": [
    {
     "data": {
      "text/html": [
       "<div>\n",
       "<style scoped>\n",
       "    .dataframe tbody tr th:only-of-type {\n",
       "        vertical-align: middle;\n",
       "    }\n",
       "\n",
       "    .dataframe tbody tr th {\n",
       "        vertical-align: top;\n",
       "    }\n",
       "\n",
       "    .dataframe thead th {\n",
       "        text-align: right;\n",
       "    }\n",
       "</style>\n",
       "<table border=\"1\" class=\"dataframe\">\n",
       "  <thead>\n",
       "    <tr style=\"text-align: right;\">\n",
       "      <th></th>\n",
       "      <th>ArchId</th>\n",
       "      <th>CurName</th>\n",
       "      <th>superfamilyarch</th>\n",
       "      <th>SpecificArch</th>\n",
       "      <th>TitleStrings</th>\n",
       "    </tr>\n",
       "  </thead>\n",
       "  <tbody>\n",
       "    <tr>\n",
       "      <th>0</th>\n",
       "      <td>48.0</td>\n",
       "      <td>Gag_p24 domain-containing protein</td>\n",
       "      <td>gag_p24</td>\n",
       "      <td>NaN</td>\n",
       "      <td>NaN</td>\n",
       "    </tr>\n",
       "    <tr>\n",
       "      <th>1</th>\n",
       "      <td>39.0</td>\n",
       "      <td>Gag_p17 domain-containing protein</td>\n",
       "      <td>gag_p17</td>\n",
       "      <td>NaN</td>\n",
       "      <td>NaN</td>\n",
       "    </tr>\n",
       "    <tr>\n",
       "      <th>2</th>\n",
       "      <td>28.0</td>\n",
       "      <td>Ribosomal_S18 domain-containing protein</td>\n",
       "      <td>ribosomal_s18</td>\n",
       "      <td>NaN</td>\n",
       "      <td>NaN</td>\n",
       "    </tr>\n",
       "    <tr>\n",
       "      <th>3</th>\n",
       "      <td>52.0</td>\n",
       "      <td>VPR domain-containing protein</td>\n",
       "      <td>vpr</td>\n",
       "      <td>NaN</td>\n",
       "      <td>NaN</td>\n",
       "    </tr>\n",
       "    <tr>\n",
       "      <th>4</th>\n",
       "      <td>35.0</td>\n",
       "      <td>TOPRIM domain-containing protein</td>\n",
       "      <td>toprim</td>\n",
       "      <td>NaN</td>\n",
       "      <td>NaN</td>\n",
       "    </tr>\n",
       "    <tr>\n",
       "      <th>...</th>\n",
       "      <td>...</td>\n",
       "      <td>...</td>\n",
       "      <td>...</td>\n",
       "      <td>...</td>\n",
       "      <td>...</td>\n",
       "    </tr>\n",
       "    <tr>\n",
       "      <th>178201</th>\n",
       "      <td>18342769.0</td>\n",
       "      <td>caspase family protein</td>\n",
       "      <td>ead2</td>\n",
       "      <td>pfam19956</td>\n",
       "      <td>effector-associated domain 2</td>\n",
       "    </tr>\n",
       "    <tr>\n",
       "      <th>178206</th>\n",
       "      <td>18343690.0</td>\n",
       "      <td>MarR family transcriptional regulator</td>\n",
       "      <td>duf6432</td>\n",
       "      <td>pfam20024</td>\n",
       "      <td>family of unknown function (duf6432)</td>\n",
       "    </tr>\n",
       "    <tr>\n",
       "      <th>178222</th>\n",
       "      <td>18345980.0</td>\n",
       "      <td>NaN</td>\n",
       "      <td>duf6532</td>\n",
       "      <td>pfam20149</td>\n",
       "      <td>domain of unknown function (duf6532)</td>\n",
       "    </tr>\n",
       "    <tr>\n",
       "      <th>178226</th>\n",
       "      <td>18346698.0</td>\n",
       "      <td>HI1514 family protein; tape measure protein</td>\n",
       "      <td>tmp_3</td>\n",
       "      <td>pfam20155</td>\n",
       "      <td>tape measure protein</td>\n",
       "    </tr>\n",
       "    <tr>\n",
       "      <th>TitleStrings</th>\n",
       "      <td>NaN</td>\n",
       "      <td>NaN</td>\n",
       "      <td>NaN</td>\n",
       "      <td>NaN</td>\n",
       "      <td>NaN</td>\n",
       "    </tr>\n",
       "  </tbody>\n",
       "</table>\n",
       "<p>42919 rows × 5 columns</p>\n",
       "</div>"
      ],
      "text/plain": [
       "                  ArchId                                      CurName  \\\n",
       "0                   48.0            Gag_p24 domain-containing protein   \n",
       "1                   39.0            Gag_p17 domain-containing protein   \n",
       "2                   28.0      Ribosomal_S18 domain-containing protein   \n",
       "3                   52.0                VPR domain-containing protein   \n",
       "4                   35.0             TOPRIM domain-containing protein   \n",
       "...                  ...                                          ...   \n",
       "178201        18342769.0                       caspase family protein   \n",
       "178206        18343690.0        MarR family transcriptional regulator   \n",
       "178222        18345980.0                                          NaN   \n",
       "178226        18346698.0  HI1514 family protein; tape measure protein   \n",
       "TitleStrings         NaN                                          NaN   \n",
       "\n",
       "             superfamilyarch SpecificArch  \\\n",
       "0                    gag_p24          NaN   \n",
       "1                    gag_p17          NaN   \n",
       "2              ribosomal_s18          NaN   \n",
       "3                        vpr          NaN   \n",
       "4                     toprim          NaN   \n",
       "...                      ...          ...   \n",
       "178201                  ead2    pfam19956   \n",
       "178206               duf6432    pfam20024   \n",
       "178222               duf6532    pfam20149   \n",
       "178226                 tmp_3    pfam20155   \n",
       "TitleStrings             NaN          NaN   \n",
       "\n",
       "                                      TitleStrings  \n",
       "0                                              NaN  \n",
       "1                                              NaN  \n",
       "2                                              NaN  \n",
       "3                                              NaN  \n",
       "4                                              NaN  \n",
       "...                                            ...  \n",
       "178201                effector-associated domain 2  \n",
       "178206        family of unknown function (duf6432)  \n",
       "178222        domain of unknown function (duf6532)  \n",
       "178226                        tape measure protein  \n",
       "TitleStrings                                   NaN  \n",
       "\n",
       "[42919 rows x 5 columns]"
      ]
     },
     "execution_count": 26,
     "metadata": {},
     "output_type": "execute_result"
    }
   ],
   "source": [
    "df_filtered"
   ]
  },
  {
   "cell_type": "code",
   "execution_count": 28,
   "id": "1eeebd2d-80ce-4c09-bc71-dd8a35a78386",
   "metadata": {},
   "outputs": [],
   "source": [
    "keys_present = [key for key in unique_specarchs_UNcur if key in result_dict]"
   ]
  },
  {
   "cell_type": "code",
   "execution_count": 29,
   "id": "96757753-eb9c-484c-99d9-3232c1a7435f",
   "metadata": {},
   "outputs": [
    {
     "data": {
      "text/plain": [
       "['cog1649',\n",
       " 'prk00847',\n",
       " 'prk09509',\n",
       " 'prk10518',\n",
       " 'prk10306',\n",
       " 'tigr01307',\n",
       " 'tigr02170',\n",
       " 'cd07268',\n",
       " 'pfam01710',\n",
       " 'pfam00487',\n",
       " 'pfam05636',\n",
       " 'pfam00872',\n",
       " 'cd01121']"
      ]
     },
     "execution_count": 29,
     "metadata": {},
     "output_type": "execute_result"
    }
   ],
   "source": [
    "keys_present"
   ]
  },
  {
   "cell_type": "code",
   "execution_count": null,
   "id": "896bf835-6ba3-40ca-893a-37c2691a7e52",
   "metadata": {},
   "outputs": [],
   "source": []
  },
  {
   "cell_type": "code",
   "execution_count": null,
   "id": "5fa08f2c-f185-49fe-bfe7-91a57d865441",
   "metadata": {},
   "outputs": [],
   "source": []
  },
  {
   "cell_type": "code",
   "execution_count": null,
   "id": "24c5c8b9-a94b-460b-9490-a47bc2fdae25",
   "metadata": {},
   "outputs": [],
   "source": []
  }
 ],
 "metadata": {
  "kernelspec": {
   "display_name": "Python 3 (ipykernel)",
   "language": "python",
   "name": "python3"
  },
  "language_info": {
   "codemirror_mode": {
    "name": "ipython",
    "version": 3
   },
   "file_extension": ".py",
   "mimetype": "text/x-python",
   "name": "python",
   "nbconvert_exporter": "python",
   "pygments_lexer": "ipython3",
   "version": "3.9.18"
  }
 },
 "nbformat": 4,
 "nbformat_minor": 5
}
