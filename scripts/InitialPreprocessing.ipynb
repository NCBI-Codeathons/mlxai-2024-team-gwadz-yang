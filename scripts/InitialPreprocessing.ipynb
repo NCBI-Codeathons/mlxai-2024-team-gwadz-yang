{
 "cells": [
  {
   "cell_type": "markdown",
   "id": "34cadf84-49f9-4e2d-956e-546a81c134d2",
   "metadata": {},
   "source": [
    "# Initial preprocessing for curated and uncurated protein structures"
   ]
  },
  {
   "cell_type": "markdown",
   "id": "561969bb-0a6c-448f-ada6-89fa6354aa55",
   "metadata": {},
   "source": [
    "### Load libraries and files"
   ]
  },
  {
   "cell_type": "code",
   "execution_count": 1,
   "id": "e46fbe6f-9bcd-46dc-816a-6266c54c1b87",
   "metadata": {},
   "outputs": [],
   "source": [
    "import os\n",
    "import pandas as pd\n",
    "import math \n",
    "from collections import defaultdict \n",
    "import matplotlib.pyplot as plt\n",
    "\n",
    "DATA_DIR=\"../data\""
   ]
  },
  {
   "cell_type": "code",
   "execution_count": 2,
   "id": "c98403fc-c4e3-4981-b5e0-0de4b82ab219",
   "metadata": {},
   "outputs": [
    {
     "data": {
      "text/html": [
       "<div>\n",
       "<style scoped>\n",
       "    .dataframe tbody tr th:only-of-type {\n",
       "        vertical-align: middle;\n",
       "    }\n",
       "\n",
       "    .dataframe tbody tr th {\n",
       "        vertical-align: top;\n",
       "    }\n",
       "\n",
       "    .dataframe thead th {\n",
       "        text-align: right;\n",
       "    }\n",
       "</style>\n",
       "<table border=\"1\" class=\"dataframe\">\n",
       "  <thead>\n",
       "    <tr style=\"text-align: right;\">\n",
       "      <th></th>\n",
       "      <th>ArchId</th>\n",
       "      <th>CurVer</th>\n",
       "      <th>CurLabel</th>\n",
       "      <th>CurName</th>\n",
       "      <th>CurName_simplified</th>\n",
       "      <th>superfamilyarch</th>\n",
       "      <th>SpecificArch</th>\n",
       "      <th>TitleStrings</th>\n",
       "      <th>Taxid</th>\n",
       "      <th>IsSpec</th>\n",
       "      <th>Status</th>\n",
       "      <th>LabelState</th>\n",
       "      <th>archLen_max</th>\n",
       "      <th>archLen_med</th>\n",
       "      <th>ArchId_string</th>\n",
       "      <th>SuperFamID_string</th>\n",
       "    </tr>\n",
       "  </thead>\n",
       "  <tbody>\n",
       "    <tr>\n",
       "      <th>0</th>\n",
       "      <td>11436966</td>\n",
       "      <td>2</td>\n",
       "      <td>(2,3-dihydroxybenzoyl)adenylate synthase catal...</td>\n",
       "      <td>(2,3-dihydroxybenzoyl)adenylate synthase</td>\n",
       "      <td>(2,3-dihydroxybenzoyl)adenylate synthase</td>\n",
       "      <td>AMP-binding</td>\n",
       "      <td>COG1021</td>\n",
       "      <td>Non-ribosomal peptide synthetase component E (...</td>\n",
       "      <td>1</td>\n",
       "      <td>1</td>\n",
       "      <td>published</td>\n",
       "      <td>curated</td>\n",
       "      <td>NaN</td>\n",
       "      <td>NaN</td>\n",
       "      <td>6446</td>\n",
       "      <td>0</td>\n",
       "    </tr>\n",
       "    <tr>\n",
       "      <th>1</th>\n",
       "      <td>11494111</td>\n",
       "      <td>2</td>\n",
       "      <td>(2,3-dihydroxybenzoyl)adenylate synthase catal...</td>\n",
       "      <td>(2,3-dihydroxybenzoyl)adenylate synthase</td>\n",
       "      <td>(2,3-dihydroxybenzoyl)adenylate synthase</td>\n",
       "      <td>AMP-binding</td>\n",
       "      <td>TIGR02275</td>\n",
       "      <td>2,3-dihydroxybenzoate-AMP ligase</td>\n",
       "      <td>1</td>\n",
       "      <td>1</td>\n",
       "      <td>published</td>\n",
       "      <td>curated</td>\n",
       "      <td>NaN</td>\n",
       "      <td>NaN</td>\n",
       "      <td>53958</td>\n",
       "      <td>0</td>\n",
       "    </tr>\n",
       "    <tr>\n",
       "      <th>2</th>\n",
       "      <td>11494111</td>\n",
       "      <td>2</td>\n",
       "      <td>(2,3-dihydroxybenzoyl)adenylate synthase catal...</td>\n",
       "      <td>(2,3-dihydroxybenzoyl)adenylate synthase</td>\n",
       "      <td>(2,3-dihydroxybenzoyl)adenylate synthase</td>\n",
       "      <td>DHB_AMP_lig</td>\n",
       "      <td>TIGR02275</td>\n",
       "      <td>2,3-dihydroxybenzoate-AMP ligase</td>\n",
       "      <td>1</td>\n",
       "      <td>1</td>\n",
       "      <td>published</td>\n",
       "      <td>curated</td>\n",
       "      <td>NaN</td>\n",
       "      <td>NaN</td>\n",
       "      <td>53958</td>\n",
       "      <td>37086</td>\n",
       "    </tr>\n",
       "    <tr>\n",
       "      <th>3</th>\n",
       "      <td>11436966</td>\n",
       "      <td>2</td>\n",
       "      <td>(2,3-dihydroxybenzoyl)adenylate synthase catal...</td>\n",
       "      <td>(2,3-dihydroxybenzoyl)adenylate synthase</td>\n",
       "      <td>(2,3-dihydroxybenzoyl)adenylate synthase</td>\n",
       "      <td>EntE</td>\n",
       "      <td>COG1021</td>\n",
       "      <td>Non-ribosomal peptide synthetase component E (...</td>\n",
       "      <td>1</td>\n",
       "      <td>1</td>\n",
       "      <td>published</td>\n",
       "      <td>curated</td>\n",
       "      <td>NaN</td>\n",
       "      <td>NaN</td>\n",
       "      <td>6446</td>\n",
       "      <td>34064</td>\n",
       "    </tr>\n",
       "    <tr>\n",
       "      <th>4</th>\n",
       "      <td>11485118</td>\n",
       "      <td>2</td>\n",
       "      <td>(2,3-dihydroxybenzoyl)adenylate synthase catal...</td>\n",
       "      <td>(2,3-dihydroxybenzoyl)adenylate synthase</td>\n",
       "      <td>(2,3-dihydroxybenzoyl)adenylate synthase</td>\n",
       "      <td>entE</td>\n",
       "      <td>PRK10946</td>\n",
       "      <td>(2,3-dihydroxybenzoyl)adenylate synthase</td>\n",
       "      <td>1</td>\n",
       "      <td>1</td>\n",
       "      <td>published</td>\n",
       "      <td>curated</td>\n",
       "      <td>NaN</td>\n",
       "      <td>NaN</td>\n",
       "      <td>32482</td>\n",
       "      <td>35977</td>\n",
       "    </tr>\n",
       "  </tbody>\n",
       "</table>\n",
       "</div>"
      ],
      "text/plain": [
       "     ArchId  CurVer                                           CurLabel  \\\n",
       "0  11436966       2  (2,3-dihydroxybenzoyl)adenylate synthase catal...   \n",
       "1  11494111       2  (2,3-dihydroxybenzoyl)adenylate synthase catal...   \n",
       "2  11494111       2  (2,3-dihydroxybenzoyl)adenylate synthase catal...   \n",
       "3  11436966       2  (2,3-dihydroxybenzoyl)adenylate synthase catal...   \n",
       "4  11485118       2  (2,3-dihydroxybenzoyl)adenylate synthase catal...   \n",
       "\n",
       "                                    CurName  \\\n",
       "0  (2,3-dihydroxybenzoyl)adenylate synthase   \n",
       "1  (2,3-dihydroxybenzoyl)adenylate synthase   \n",
       "2  (2,3-dihydroxybenzoyl)adenylate synthase   \n",
       "3  (2,3-dihydroxybenzoyl)adenylate synthase   \n",
       "4  (2,3-dihydroxybenzoyl)adenylate synthase   \n",
       "\n",
       "                         CurName_simplified superfamilyarch SpecificArch  \\\n",
       "0  (2,3-dihydroxybenzoyl)adenylate synthase     AMP-binding      COG1021   \n",
       "1  (2,3-dihydroxybenzoyl)adenylate synthase     AMP-binding    TIGR02275   \n",
       "2  (2,3-dihydroxybenzoyl)adenylate synthase     DHB_AMP_lig    TIGR02275   \n",
       "3  (2,3-dihydroxybenzoyl)adenylate synthase            EntE      COG1021   \n",
       "4  (2,3-dihydroxybenzoyl)adenylate synthase            entE     PRK10946   \n",
       "\n",
       "                                        TitleStrings  Taxid  IsSpec  \\\n",
       "0  Non-ribosomal peptide synthetase component E (...      1       1   \n",
       "1                   2,3-dihydroxybenzoate-AMP ligase      1       1   \n",
       "2                   2,3-dihydroxybenzoate-AMP ligase      1       1   \n",
       "3  Non-ribosomal peptide synthetase component E (...      1       1   \n",
       "4           (2,3-dihydroxybenzoyl)adenylate synthase      1       1   \n",
       "\n",
       "      Status LabelState  archLen_max  archLen_med ArchId_string  \\\n",
       "0  published    curated          NaN          NaN          6446   \n",
       "1  published    curated          NaN          NaN         53958   \n",
       "2  published    curated          NaN          NaN         53958   \n",
       "3  published    curated          NaN          NaN          6446   \n",
       "4  published    curated          NaN          NaN         32482   \n",
       "\n",
       "  SuperFamID_string  \n",
       "0                 0  \n",
       "1                 0  \n",
       "2             37086  \n",
       "3             34064  \n",
       "4             35977  "
      ]
     },
     "execution_count": 2,
     "metadata": {},
     "output_type": "execute_result"
    }
   ],
   "source": [
    "# Access &read the file - Currated\n",
    "file_path = os.path.join(DATA_DIR, \"SPARCLE_IDS_curated_simplified.csv\")\n",
    "df_cur = pd.read_csv(file_path)\n",
    "\n",
    "#test succ. loading\n",
    "df_cur.head()"
   ]
  },
  {
   "cell_type": "markdown",
   "id": "4d924260-1e96-4981-a456-3039bd1df577",
   "metadata": {},
   "source": [
    "## Filtering by Columns"
   ]
  },
  {
   "cell_type": "code",
   "execution_count": 3,
   "id": "76683577-b32a-4007-932d-6d4593d4fcb6",
   "metadata": {},
   "outputs": [],
   "source": [
    "df_cur = df_cur[['ArchId', 'CurName_simplified', 'superfamilyarch', 'SpecificArch', 'TitleStrings']]"
   ]
  },
  {
   "cell_type": "markdown",
   "id": "791c833b-cd5d-44be-96a6-b2b4763bccf3",
   "metadata": {},
   "source": [
    "## Further preprocessing"
   ]
  },
  {
   "cell_type": "markdown",
   "id": "e93ccdaa-ac54-4cfd-a2aa-db9a0984482e",
   "metadata": {},
   "source": [
    "### Lowercase"
   ]
  },
  {
   "cell_type": "code",
   "execution_count": 4,
   "id": "30175c02-8b3a-4657-8da3-15605cad5a3e",
   "metadata": {},
   "outputs": [],
   "source": [
    "df_cur.loc[:, ['superfamilyarch', 'SpecificArch', 'TitleStrings']] = df_cur.loc[:, ['CurName_simplified', 'superfamilyarch', 'SpecificArch', 'TitleStrings']].apply(lambda x: x.str.lower())"
   ]
  },
  {
   "cell_type": "markdown",
   "id": "55d81665-6355-4665-a62d-9a1d99202e0e",
   "metadata": {},
   "source": [
    "## Filter specific words in TitleStrings"
   ]
  },
  {
   "cell_type": "markdown",
   "id": "e04df9b4-f7f0-48fc-97e0-4f29e7f93f60",
   "metadata": {},
   "source": [
    "Integration of data obtained from file \"CM_XXX\""
   ]
  },
  {
   "cell_type": "code",
   "execution_count": 5,
   "id": "bc80e6df-cc22-427e-9f6a-aa1550165d96",
   "metadata": {},
   "outputs": [],
   "source": [
    "words_to_remove = ['domain', 'domains', ' of ', ' and ', ' the ', ' a ', 'found', 'function', 'type', 'protein', 'proteins', 'N/A', 'n/a']"
   ]
  },
  {
   "cell_type": "code",
   "execution_count": 6,
   "id": "c70b4c1a-0dbe-4163-871a-f535642725f5",
   "metadata": {},
   "outputs": [],
   "source": [
    "# Creating a regex pattern to match any word in the list of words to remove\n",
    "pattern = '|'.join(r\"\\b{}\\b\".format(word) for word in words_to_remove)\n",
    "\n",
    "# Replacing the words in the 'Text' column with an empty string\n",
    "df_cur['TitleStrings'] = df_cur['TitleStrings'].str.replace(pattern, ' ', regex=True)\n",
    "df_cur['TitleStrings'] = df_cur['TitleStrings'].str.replace('  ', ' ', regex=True)\n",
    "df_cur['TitleStrings'] = df_cur['TitleStrings'].str.replace('  ', ' ', regex=True)\n",
    "df_cur['TitleStrings'] = df_cur['TitleStrings'].str.replace(' , ', ', ', regex=True)"
   ]
  },
  {
   "cell_type": "code",
   "execution_count": 8,
   "id": "89d1c049-0fde-48d2-8fb0-c2f463b8a3cb",
   "metadata": {},
   "outputs": [],
   "source": [
    "df_cur.to_csv('SPARCLE_IDS_curated_simplified_modTitleStrings.csv', index=False)"
   ]
  },
  {
   "cell_type": "code",
   "execution_count": null,
   "id": "f1a5535d-7299-4e9b-a599-8cef3008c35e",
   "metadata": {},
   "outputs": [],
   "source": []
  },
  {
   "cell_type": "code",
   "execution_count": 47,
   "id": "87182f32-b330-45e5-97b5-f10365ab3547",
   "metadata": {},
   "outputs": [],
   "source": [
    "import collections"
   ]
  },
  {
   "cell_type": "code",
   "execution_count": 70,
   "id": "8553c51d-86d7-4fa9-b084-996ad61baab1",
   "metadata": {},
   "outputs": [
    {
     "data": {
      "text/plain": [
       "[('family', 3714),\n",
       " ('in', 3713),\n",
       " ('unknown', 2614),\n",
       " ('similar', 2383),\n",
       " ('the', 2005),\n",
       " ('and', 1629),\n",
       " ('transport', 1578),\n",
       " ('kinase', 1382),\n",
       " ('1', 1272),\n",
       " ('catalytic', 1109),\n",
       " ('subunit', 1036),\n",
       " ('metabolism]', 1022),\n",
       " ('synthase', 1017),\n",
       " ('binding', 975),\n",
       " ('2', 968),\n",
       " ('uncharacterized', 946),\n",
       " ('motif', 945),\n",
       " ('superfamily', 941),\n",
       " ('rna', 901),\n",
       " ('zinc', 896)]"
      ]
     },
     "execution_count": 70,
     "metadata": {},
     "output_type": "execute_result"
    }
   ],
   "source": [
    "strings = list(set(df_cur.loc[~df_cur['TitleStrings'].isna()]['TitleStrings']))\n",
    "all_strings = []\n",
    "for string in strings:\n",
    "    # string = strings[0]\n",
    "    string = string.replace(\"| \",\"\")\n",
    "    string = string.replace(\", \",\"\")\n",
    "    words = string.split()\n",
    "    all_strings += words\n",
    "\n",
    "\n",
    "counter = collections.Counter(all_strings)\n",
    "counter.most_common(20)"
   ]
  },
  {
   "cell_type": "code",
   "execution_count": null,
   "id": "dc2d03b9-e68b-432f-97af-862051675ab1",
   "metadata": {},
   "outputs": [],
   "source": []
  },
  {
   "cell_type": "code",
   "execution_count": null,
   "id": "0c9ad6d6-372c-43c2-a732-8fee2981673f",
   "metadata": {},
   "outputs": [],
   "source": []
  }
 ],
 "metadata": {
  "kernelspec": {
   "display_name": "Python 3 (ipykernel)",
   "language": "python",
   "name": "python3"
  },
  "language_info": {
   "codemirror_mode": {
    "name": "ipython",
    "version": 3
   },
   "file_extension": ".py",
   "mimetype": "text/x-python",
   "name": "python",
   "nbconvert_exporter": "python",
   "pygments_lexer": "ipython3",
   "version": "3.9.18"
  }
 },
 "nbformat": 4,
 "nbformat_minor": 5
}
