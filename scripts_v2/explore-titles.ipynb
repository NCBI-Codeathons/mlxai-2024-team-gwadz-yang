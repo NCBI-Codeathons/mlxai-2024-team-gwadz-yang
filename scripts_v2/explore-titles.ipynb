{
 "cells": [
  {
   "cell_type": "code",
   "execution_count": 1,
   "id": "b2d54da3-e6af-4cf6-97a4-8b5458ec0ade",
   "metadata": {},
   "outputs": [],
   "source": [
    "import os\n",
    "import pandas as pd\n",
    "import seaborn as sns\n",
    "import matplotlib.pyplot as plt\n",
    "\n",
    "DATA_DIR='../data_v2'"
   ]
  },
  {
   "cell_type": "code",
   "execution_count": 2,
   "id": "bef8087e-6203-421c-926c-7c77041847d0",
   "metadata": {},
   "outputs": [],
   "source": [
    "File_SPARCLE_Curated = os.path.join(DATA_DIR, 'CuratedArch_simplifiedNames_titles_counts_v4.csv')\n",
    "File_SPARCLE_UnCurated = os.path.join(DATA_DIR, 'UnCuratedArchs_superfams__titles_v4.csv')"
   ]
  },
  {
   "cell_type": "code",
   "execution_count": 3,
   "id": "31f507e1-8a3d-47c9-bd9f-2af58bb3bc2b",
   "metadata": {},
   "outputs": [],
   "source": [
    "def count_unique_titles(fp):\n",
    "    df = pd.read_csv(fp, usecols=['TitleStrings'])\n",
    "    # print(df.shape)\n",
    "    unique_titles_dict = {}\n",
    "    for row in df['TitleStrings']:\n",
    "        if pd.isna(row):\n",
    "            continue\n",
    "        titles = row.split('|')\n",
    "        for title in titles:\n",
    "            if title in unique_titles_dict:\n",
    "                unique_titles_dict[title] += 1\n",
    "            else:\n",
    "                unique_titles_dict[title] = 1\n",
    "    \n",
    "    df = pd.DataFrame.from_dict(unique_titles_dict.items())\n",
    "    df = df.rename(columns={0: 'title', 1: 'count'})\n",
    "    df = df.sort_values(by='count', ascending=False)\n",
    "    print('Total count of unique titles:', df.shape[0])\n",
    "    print(df.head(100))\n",
    "\n",
    "    # Plot the DataFrame using Seaborn\n",
    "    # plt.figure(figsize=(8, 6))\n",
    "    # sns.barplot(x='title', y='count', data=df[:100])\n",
    "    # plt.xlabel('Title')\n",
    "    # plt.ylabel('Count')\n",
    "    # plt.title('Count of Titles')\n",
    "    # plt.xticks(rotation=45)\n",
    "    # plt.tight_layout()\n",
    "    # plt.show()\n",
    "    "
   ]
  },
  {
   "cell_type": "code",
   "execution_count": 4,
   "id": "dda5072b-76af-44c2-be89-08f7d938ffe3",
   "metadata": {},
   "outputs": [
    {
     "name": "stdout",
     "output_type": "stream",
     "text": [
      "Total count of unique titles: 28462\n",
      "                                                   title  count\n",
      "558    acetyltransferase (gnat) acetyltransferase (gnat)     95\n",
      "17199                                 sdr oxidoreductase     94\n",
      "20171  src homology 3 kinase c casein kinase substrat...     92\n",
      "3069                                            membrane     88\n",
      "7016   major facilitator superfamily major facilitato...     83\n",
      "...                                                  ...    ...\n",
      "1113   1 periplasmic ligand-binding abc (atpase bindi...     12\n",
      "503                   3-hydroxybutyryl-coa dehydrogenase     12\n",
      "6633                      dihydrolipoamide dehydrogenase     12\n",
      "15842  subgroup mbl-fold_metallo-hydrolase superfamil...     12\n",
      "9946   enabled/vasp evh1 enabled/vasp evh1 vasp tetra...     12\n",
      "\n",
      "[100 rows x 2 columns]\n"
     ]
    }
   ],
   "source": [
    "count_unique_titles(File_SPARCLE_Curated)"
   ]
  },
  {
   "cell_type": "code",
   "execution_count": 15,
   "id": "b2953dfa-f0f5-4efe-b689-da923e77cf9a",
   "metadata": {},
   "outputs": [
    {
     "name": "stdout",
     "output_type": "stream",
     "text": [
      "Total count of unique titles: 90723\n",
      "                                                   title  count\n",
      "69720  i-f variant crispr-associated backbone cas7 (c...   3018\n",
      "2174                             argininosuccinate lyase    470\n",
      "2175                            exodeoxyribonuclease iii    459\n",
      "2164                      primase c terminal 1 (prict-1)    384\n",
      "819    tetratricopeptide repeat tetratricopeptide repeat    381\n",
      "...                                                  ...    ...\n",
      "2442   permease slc13 (solute carrier 13) sodium/dica...     76\n",
      "1535   forkhead associated (fha) superfamily forkhead...     76\n",
      "8708                   cyclase homology cyclase homology     75\n",
      "1513   fad dependent oxidoreductase fad dependent oxi...     75\n",
      "38194  resolvase n terminal recombinase recombinase z...     75\n",
      "\n",
      "[100 rows x 2 columns]\n"
     ]
    }
   ],
   "source": [
    "count_unique_titles(File_SPARCLE_UnCurated)"
   ]
  },
  {
   "cell_type": "code",
   "execution_count": 13,
   "id": "bc0b3445-b84d-4590-b34b-88b32885fc24",
   "metadata": {},
   "outputs": [],
   "source": [
    "def count_unique_words(fp):\n",
    "    df = pd.read_csv(fp, usecols=['TitleStrings'])\n",
    "    # print(df.shape)\n",
    "    unique_words_dict = {}\n",
    "    for row in df['TitleStrings']:\n",
    "        if pd.isna(row):\n",
    "            continue\n",
    "        titles = row.split('|')\n",
    "        words = []\n",
    "        for title in titles:\n",
    "            words.extend(title.split())\n",
    "        for word in words:\n",
    "            if word in unique_words_dict:\n",
    "                unique_words_dict[word] += 1\n",
    "            else:\n",
    "                unique_words_dict[word] = 1\n",
    "    \n",
    "    df = pd.DataFrame.from_dict(unique_words_dict.items())\n",
    "    df = df.rename(columns={0: 'word', 1: 'count'})\n",
    "    df = df.sort_values(by='count', ascending=False)\n",
    "    print('Total count of unique titles:', df.shape[0])\n",
    "    print(df.head(100))"
   ]
  },
  {
   "cell_type": "code",
   "execution_count": 14,
   "id": "0c8b1d0e-7882-4210-ae2b-8877de23fc52",
   "metadata": {},
   "outputs": [
    {
     "name": "stdout",
     "output_type": "stream",
     "text": [
      "Total count of unique titles: 24053\n",
      "                  word  count\n",
      "196          transport   4166\n",
      "576             kinase   3406\n",
      "340            subunit   2981\n",
      "73                   1   2514\n",
      "309           synthase   2436\n",
      "...                ...    ...\n",
      "586       carbohydrate    645\n",
      "4629               (x)    645\n",
      "464        translation    636\n",
      "195                ion    628\n",
      "3669  helix-turn-helix    620\n",
      "\n",
      "[100 rows x 2 columns]\n"
     ]
    }
   ],
   "source": [
    "count_unique_words(File_SPARCLE_Curated)"
   ]
  },
  {
   "cell_type": "code",
   "execution_count": 16,
   "id": "17009b10-14a9-4fd0-8ddf-8780c41c040a",
   "metadata": {},
   "outputs": [
    {
     "name": "stdout",
     "output_type": "stream",
     "text": [
      "Total count of unique titles: 27131\n",
      "              word  count\n",
      "238         repeat  27409\n",
      "563         signal  23620\n",
      "664   transduction  20208\n",
      "384     mechanisms  17702\n",
      "188        binding  16600\n",
      "...            ...    ...\n",
      "1166        tandem   3362\n",
      "1096         (dgc)   3340\n",
      "952             (3   3261\n",
      "1803        second   3215\n",
      "605         member   3197\n",
      "\n",
      "[100 rows x 2 columns]\n"
     ]
    }
   ],
   "source": [
    "count_unique_words(File_SPARCLE_UnCurated)"
   ]
  },
  {
   "cell_type": "code",
   "execution_count": null,
   "id": "31d0fdba-6cad-485d-82f5-677130fd3182",
   "metadata": {},
   "outputs": [],
   "source": []
  }
 ],
 "metadata": {
  "kernelspec": {
   "display_name": "Python 3 (ipykernel)",
   "language": "python",
   "name": "python3"
  },
  "language_info": {
   "codemirror_mode": {
    "name": "ipython",
    "version": 3
   },
   "file_extension": ".py",
   "mimetype": "text/x-python",
   "name": "python",
   "nbconvert_exporter": "python",
   "pygments_lexer": "ipython3",
   "version": "3.10.12"
  }
 },
 "nbformat": 4,
 "nbformat_minor": 5
}
